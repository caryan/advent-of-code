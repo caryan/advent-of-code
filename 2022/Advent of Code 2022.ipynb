{
 "cells": [
  {
   "cell_type": "markdown",
   "id": "2a59feab-9278-4311-9e6f-0bd67797cd48",
   "metadata": {},
   "source": [
    "# Day 1"
   ]
  },
  {
   "cell_type": "markdown",
   "id": "a1f052f9-7fd5-4d85-8304-d4ec0297ca45",
   "metadata": {},
   "source": [
    "## Part 1\n",
    "Figure out the most calories carried by any elf."
   ]
  },
  {
   "cell_type": "code",
   "execution_count": 64,
   "id": "88a6fb9c-2aad-44c4-96fb-61950819a9ae",
   "metadata": {},
   "outputs": [
    {
     "data": {
      "text/plain": [
       "68923"
      ]
     },
     "execution_count": 64,
     "metadata": {},
     "output_type": "execute_result"
    }
   ],
   "source": [
    "; TODO stream process line by by line rather than read in the entire file into memory\n",
    "(let ((lines (uiop:read-file-lines \"input_day1_part1.txt\"))\n",
    "      ; temporary accumulator for each elfs calories\n",
    "      (cal_ct 0)\n",
    "      ; variable to track the maximum calories per elf\n",
    "      (max_cal 0))\n",
    "    (dolist (line lines)\n",
    "        ; elves are demarcated by empty lines\n",
    "        (if (string= \"\" line)\n",
    "            (progn (when (> cal_ct max_cal) (setq max_cal cal_ct)) (setq cal_ct 0))\n",
    "            (incf cal_ct (parse-integer line))\n",
    "        )\n",
    "    )\n",
    " ; return the maximum number of calories found on an elf\n",
    " max_cal)\n",
    "    "
   ]
  },
  {
   "cell_type": "markdown",
   "id": "8d7fc65f-d672-4d8c-87ab-68a9859a4433",
   "metadata": {},
   "source": [
    "## Part 2\n",
    "\n",
    "Find the sum of the calories for the top 3 elves. "
   ]
  },
  {
   "cell_type": "code",
   "execution_count": 8,
   "id": "6d3ccb9c-15eb-49ef-bd1b-f31f509f0bcd",
   "metadata": {},
   "outputs": [
    {
     "data": {
      "text/plain": [
       "200044"
      ]
     },
     "execution_count": 8,
     "metadata": {},
     "output_type": "execute_result"
    }
   ],
   "source": [
    "(let (\n",
    "      (lines (uiop:read-file-lines \"input_day1_part1.txt\"))\n",
    "      (cal_ct 0)\n",
    "      (calories nil))\n",
    "    (dolist (line lines)\n",
    "        (if (string= \"\" line)\n",
    "            (progn (push cal_ct calories) (setq cal_ct 0))\n",
    "            (progn (incf cal_ct (parse-integer line)))\n",
    "        )\n",
    "    )\n",
    "    (let ((sorted (sort calories #'>)))\n",
    "         (+ (first sorted) (second sorted) (third sorted)))\n",
    ")\n"
   ]
  }
 ],
 "metadata": {
  "kernelspec": {
   "display_name": "Common Lisp",
   "language": "common-lisp",
   "name": "common-lisp"
  },
  "language_info": {
   "codemirror_mode": "text/x-common-lisp",
   "file_extension": ".lisp",
   "mimetype": "text/x-common-lisp",
   "name": "common-lisp",
   "pygments_lexer": "common-lisp",
   "version": "2.2.11"
  }
 },
 "nbformat": 4,
 "nbformat_minor": 5
}
