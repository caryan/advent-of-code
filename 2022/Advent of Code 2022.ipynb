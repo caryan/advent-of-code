{
 "cells": [
  {
   "cell_type": "markdown",
   "id": "2a59feab-9278-4311-9e6f-0bd67797cd48",
   "metadata": {},
   "source": [
    "# Day 1"
   ]
  },
  {
   "cell_type": "markdown",
   "id": "a1f052f9-7fd5-4d85-8304-d4ec0297ca45",
   "metadata": {},
   "source": [
    "## Part 1\n",
    "Figure out the most calories carried by any elf."
   ]
  },
  {
   "cell_type": "code",
   "execution_count": 1,
   "id": "88a6fb9c-2aad-44c4-96fb-61950819a9ae",
   "metadata": {},
   "outputs": [
    {
     "data": {
      "text/plain": [
       "68923"
      ]
     },
     "execution_count": 1,
     "metadata": {},
     "output_type": "execute_result"
    }
   ],
   "source": [
    "; TODO stream process line by by line rather than read in the entire file into memory\n",
    "(let ((lines (uiop:read-file-lines \"input_day1.txt\"))\n",
    "      ; temporary accumulator for each elfs calories\n",
    "      (cal_ct 0)\n",
    "      ; variable to track the maximum calories per elf\n",
    "      (max_cal 0))\n",
    "    (dolist (line lines)\n",
    "        ; elves are demarcated by empty lines\n",
    "        (if (string= \"\" line)\n",
    "            (progn (when (> cal_ct max_cal) (setq max_cal cal_ct)) (setq cal_ct 0))\n",
    "            (incf cal_ct (parse-integer line))\n",
    "        )\n",
    "    )\n",
    " ; return the maximum number of calories found on an elf\n",
    " max_cal)\n",
    "    "
   ]
  },
  {
   "cell_type": "markdown",
   "id": "8d7fc65f-d672-4d8c-87ab-68a9859a4433",
   "metadata": {},
   "source": [
    "## Part 2\n",
    "\n",
    "Find the sum of the calories for the top 3 elves. "
   ]
  },
  {
   "cell_type": "code",
   "execution_count": 2,
   "id": "6d3ccb9c-15eb-49ef-bd1b-f31f509f0bcd",
   "metadata": {},
   "outputs": [
    {
     "data": {
      "text/plain": [
       "200044"
      ]
     },
     "execution_count": 2,
     "metadata": {},
     "output_type": "execute_result"
    }
   ],
   "source": [
    "(let (\n",
    "      (lines (uiop:read-file-lines \"input_day1.txt\"))\n",
    "      (cal_ct 0)\n",
    "      (calories nil))\n",
    "    (dolist (line lines)\n",
    "        (if (string= \"\" line)\n",
    "            (progn (push cal_ct calories) (setq cal_ct 0))\n",
    "            (progn (incf cal_ct (parse-integer line)))\n",
    "        )\n",
    "    )\n",
    "    (let ((sorted (sort calories #'>)))\n",
    "         (+ (first sorted) (second sorted) (third sorted)))\n",
    ")\n"
   ]
  },
  {
   "cell_type": "markdown",
   "id": "f30addbd-8e3c-49af-97a3-9726f0e6b4cf",
   "metadata": {},
   "source": [
    "# Day 2"
   ]
  },
  {
   "cell_type": "markdown",
   "id": "1b498ede-387d-48e7-9711-4dc781cb2f67",
   "metadata": {},
   "source": [
    "## Part 1\n",
    "\n",
    "Score games of rock-paper-scissors. We'll try first with a brute force if-else chain."
   ]
  },
  {
   "cell_type": "code",
   "execution_count": 3,
   "id": "ad1d36ab-0ff1-4958-ac60-87d884759740",
   "metadata": {},
   "outputs": [
    {
     "data": {
      "text/plain": [
       "SCORE_SELECTED_SHAPE"
      ]
     },
     "execution_count": 3,
     "metadata": {},
     "output_type": "execute_result"
    },
    {
     "data": {
      "text/plain": [
       "SCORE_ROCK_PAPER_SCISSORS"
      ]
     },
     "execution_count": 3,
     "metadata": {},
     "output_type": "execute_result"
    },
    {
     "data": {
      "text/plain": [
       "SCORE_GAME"
      ]
     },
     "execution_count": 3,
     "metadata": {},
     "output_type": "execute_result"
    },
    {
     "data": {
      "text/plain": [
       "11475"
      ]
     },
     "execution_count": 3,
     "metadata": {},
     "output_type": "execute_result"
    }
   ],
   "source": [
    "(defun score_selected_shape (b)\n",
    "     (if (string= b \"X\")\n",
    "         ; 1 point for playing rock\n",
    "         1\n",
    "         (if (string= b \"Y\")\n",
    "             ; 2 points for playing paper\n",
    "             2\n",
    "             (if (string= b \"Z\")\n",
    "                 ; 3 points for playing scissors\n",
    "                 3))))\n",
    "\n",
    "(defun score_rock_paper_scissors (a b)\n",
    "    ; they played rock\n",
    "    (if (string= a \"A\")\n",
    "        ; we played rock -> tie\n",
    "        (if (string= b \"X\")\n",
    "            3\n",
    "            ; we played paper -> we won\n",
    "            (if (string= b \"Y\")\n",
    "                6\n",
    "                ; we played scissors -> we lost\n",
    "                (if (string= b \"Z\")\n",
    "                    0)))\n",
    "    ; they played paper\n",
    "    (if (string= a \"B\")\n",
    "        ; we played rock -> we lose\n",
    "        (if (string= b \"X\")\n",
    "            0\n",
    "            ; we played paper -> tie\n",
    "            (if (string= b \"Y\")\n",
    "                3\n",
    "                ; we played scissors -> we win\n",
    "                (if (string= b \"Z\")\n",
    "                    6)))\n",
    "    ; they played scissors\n",
    "    (if (string= a \"C\")\n",
    "        ; we played rock -> we win\n",
    "        (if (string= b \"X\")\n",
    "            6\n",
    "            ; we played paper -> we lose\n",
    "            (if (string= b \"Y\")\n",
    "                0\n",
    "                ; we played scissors -> tie\n",
    "                (if (string= b \"Z\")\n",
    "                    3)))))))\n",
    "\n",
    "(defun score_game (a b)\n",
    "    \"Score a single game of rock-paper-scissors. Opponent plays `a` from {A,B,C}` we play `b` from {X,Y,Z}\"\n",
    "    (+ (score_selected_shape b) (score_rock_paper_scissors a b)))\n",
    "    \n",
    "(let ((lines (uiop:read-file-lines \"input_day2.txt\")))\n",
    "     (loop for line in lines sum (score_game (string (char line 0)) (string (char line 2)))))"
   ]
  },
  {
   "cell_type": "markdown",
   "id": "b97534ab-52e5-46f9-8eb0-1614dd514cb6",
   "metadata": {},
   "source": [
    "Now let's try association lists."
   ]
  },
  {
   "cell_type": "code",
   "execution_count": 4,
   "id": "cf239241-d352-42ed-8c6f-3c94a7a31134",
   "metadata": {},
   "outputs": [
    {
     "data": {
      "text/plain": [
       "11475"
      ]
     },
     "execution_count": 4,
     "metadata": {},
     "output_type": "execute_result"
    }
   ],
   "source": [
    "(let ((lines (uiop:read-file-lines \"input_day2.txt\"))\n",
    "      (shape_score '((\"X\" . 1)(\"Y\" . 2) (\"Z\" . 3)))\n",
    "      (game_score '((\"A X\" . 3)\n",
    "                    (\"A Y\" . 6)\n",
    "                    (\"A Z\" . 0)\n",
    "                    (\"B X\" . 0)\n",
    "                    (\"B Y\" . 3)\n",
    "                    (\"B Z\" . 6)\n",
    "                    (\"C X\" . 6)\n",
    "                    (\"C Y\" . 0)\n",
    "                    (\"C Z\" . 3))))\n",
    "    (loop for line in lines\n",
    "          for tmp_shape_score = (cdr (assoc (char line 2) shape_score :test #'string=))\n",
    "          for tmp_game_score = (cdr (assoc line game_score :test #'string=))\n",
    "          sum (+ tmp_shape_score tmp_game_score)))"
   ]
  },
  {
   "cell_type": "markdown",
   "id": "1adaec99-0efb-4fcd-8342-8531fb682160",
   "metadata": {},
   "source": [
    "## Part 2\n",
    "\n",
    "Score games of rock paper scissors again."
   ]
  },
  {
   "cell_type": "code",
   "execution_count": 5,
   "id": "f9ed1688-c852-4f21-831b-64888f588cce",
   "metadata": {},
   "outputs": [
    {
     "data": {
      "text/plain": [
       "16862"
      ]
     },
     "execution_count": 5,
     "metadata": {},
     "output_type": "execute_result"
    }
   ],
   "source": [
    "(let ((lines (uiop:read-file-lines \"input_day2.txt\"))\n",
    "      (shape_score '((\"X\" . 1)(\"Y\" . 2) (\"Z\" . 3)))\n",
    "      (game_score '((\"A X\" . 3)\n",
    "                    (\"A Y\" . 6)\n",
    "                    (\"A Z\" . 0)\n",
    "                    (\"B X\" . 0)\n",
    "                    (\"B Y\" . 3)\n",
    "                    (\"B Z\" . 6)\n",
    "                    (\"C X\" . 6)\n",
    "                    (\"C Y\" . 0)\n",
    "                    (\"C Z\" . 3)))\n",
    "      (what_play  '((\"A X\" . \"Z\") ;; they chose rock, we need to lose so choose scissors\n",
    "                    (\"A Y\" . \"X\")\n",
    "                    (\"A Z\" . \"Y\")\n",
    "                    (\"B X\" . \"X\") ;; they chose paper, we need to lose so choose rock\n",
    "                    (\"B Y\" . \"Y\")\n",
    "                    (\"B Z\" . \"Z\")\n",
    "                    (\"C X\" . \"Y\") ;; they chose scissors, we need to lose so choose paper\n",
    "                    (\"C Y\" . \"Z\")\n",
    "                    (\"C Z\" . \"X\"))))\n",
    "    (loop for line in lines\n",
    "          for played = (cdr (assoc line what_play :test #'string=))\n",
    "          for tmp_shape_score = (cdr (assoc played shape_score :test #'string=))\n",
    "          for new_line = (replace line played :start1 2)\n",
    "          for tmp_game_score = (cdr (assoc new_line game_score :test #'string=))\n",
    "          sum (+ tmp_shape_score tmp_game_score)))\n"
   ]
  },
  {
   "cell_type": "markdown",
   "id": "11083d17-e563-4799-af7e-845456efb555",
   "metadata": {},
   "source": [
    "# Day 3"
   ]
  },
  {
   "cell_type": "markdown",
   "id": "ba1859c9-6da9-4ffd-af6f-4bab5300999d",
   "metadata": {},
   "source": [
    "## Part 1\n",
    "\n",
    "Sum of priorities of items in both compartments."
   ]
  },
  {
   "cell_type": "code",
   "execution_count": 6,
   "id": "e10d852f-cc14-43de-a080-92fa73d5bd86",
   "metadata": {},
   "outputs": [
    {
     "data": {
      "text/plain": [
       "PRIORITIES"
      ]
     },
     "execution_count": 6,
     "metadata": {},
     "output_type": "execute_result"
    },
    {
     "data": {
      "text/plain": [
       "FIND_ITEM_IN_BOTH"
      ]
     },
     "execution_count": 6,
     "metadata": {},
     "output_type": "execute_result"
    },
    {
     "data": {
      "text/plain": [
       "7903"
      ]
     },
     "execution_count": 6,
     "metadata": {},
     "output_type": "execute_result"
    }
   ],
   "source": [
    ";; alist mapping characters to integer priority\n",
    "(defparameter priorities (concatenate 'list\n",
    "                   (loop for i from 1 to 26 collect (cons (code-char (+ 96 i)) i))\n",
    "                   (loop for i from 1 to 26 collect (cons (code-char (+ 64 i)) (+ 26 i)))))\n",
    "\n",
    "(defun find_item_in_both (contents)\n",
    "    \"Find character that is in both the first half and second half of the `contents` string.\"\n",
    "    (let ((first_half (subseq contents 0 (/ (length contents) 2)))\n",
    "          (second_half (subseq contents (/ (length contents) 2))))\n",
    "         ;; assume there is only one so can take first item in intersection of characters\n",
    "         (first (intersection (coerce first_half 'list) (coerce second_half 'list))))\n",
    ")\n",
    "\n",
    "(let ((lines (uiop:read-file-lines \"input_day3.txt\")))\n",
    "     (loop for line in lines\n",
    "           sum (cdr (assoc (find_item_in_both line) priorities)))\n",
    ")"
   ]
  },
  {
   "cell_type": "code",
   "execution_count": 7,
   "id": "cd06c92a-ce1b-4b84-a6ca-bc6312a2c8a3",
   "metadata": {},
   "outputs": [
    {
     "data": {
      "text/plain": [
       "2548"
      ]
     },
     "execution_count": 7,
     "metadata": {},
     "output_type": "execute_result"
    }
   ],
   "source": [
    "(let ((lines (uiop:read-file-lines \"input_day3.txt\")))\n",
    "    ;; step by groups of 3\n",
    "     (loop for x upto (- (/ (length lines) 3) 1)\n",
    "           for group = (subseq lines (* 3 x) (+ (* 3 x) 3))\n",
    "           ;; do (print (reduce #'intersection (mapcar (lambda (x) (coerce x 'list)) group))))\n",
    "           sum (cdr (assoc (first (reduce #'intersection (mapcar (lambda (x) (coerce x 'list)) group))) priorities)))\n",
    ")"
   ]
  },
  {
   "cell_type": "markdown",
   "id": "989ee61a-f66f-43b4-8585-eef04205e346",
   "metadata": {},
   "source": [
    "`intersection` assumes set lists where \"A set doesn’t contain twice the same element and is unordered\". ([cookbook intersection of lists](https://lispcookbook.github.io/cl-cookbook/data-structures.html#intersection-of-lists)). If we have repeated elements in the list then we get multiple results\n"
   ]
  },
  {
   "cell_type": "code",
   "execution_count": 8,
   "id": "a186826e-71fe-483f-9ccb-2f4242b9c563",
   "metadata": {},
   "outputs": [
    {
     "data": {
      "text/plain": [
       "(#\\b #\\b #\\b)"
      ]
     },
     "execution_count": 8,
     "metadata": {},
     "output_type": "execute_result"
    }
   ],
   "source": [
    "(reduce #'intersection (mapcar (lambda (x) (coerce x 'list)) (list \"hlLwDGLNnTrbNdtbdb\" \"ZfsvJbsJTrsttHTR\" \"vjPQJPFcmZjVFZFvbbVcJZJPBBhLMnDBznnGMDLMwBhlmBBl\")))"
   ]
  },
  {
   "cell_type": "markdown",
   "id": "257518c9-848f-4aac-852b-963e40464c6e",
   "metadata": {},
   "source": [
    "# Day 4"
   ]
  },
  {
   "cell_type": "markdown",
   "id": "8ca2e24c-f319-4aee-aa4d-7daac5c25f7d",
   "metadata": {},
   "source": [
    "## Part 1\n",
    "\n",
    "Calculate number of complete overlaps."
   ]
  },
  {
   "cell_type": "code",
   "execution_count": 9,
   "id": "8b249f38-49ea-4a54-9f90-fa531371271d",
   "metadata": {},
   "outputs": [
    {
     "name": "stdout",
     "output_type": "stream",
     "text": [
      "To load \"cl-ppcre\":\n",
      "  Load 1 ASDF system:\n",
      "    cl-ppcre\n",
      "; Loading \"cl-ppcre\"\n",
      ".."
     ]
    },
    {
     "data": {
      "text/plain": [
       "(\"cl-ppcre\")"
      ]
     },
     "execution_count": 9,
     "metadata": {},
     "output_type": "execute_result"
    },
    {
     "name": "stdout",
     "output_type": "stream",
     "text": [
      "\n"
     ]
    }
   ],
   "source": [
    "(ql:quickload \"cl-ppcre\")"
   ]
  },
  {
   "cell_type": "code",
   "execution_count": 10,
   "id": "59e816e1-8100-43e2-8b0a-afbf83240731",
   "metadata": {},
   "outputs": [
    {
     "data": {
      "text/plain": [
       "588"
      ]
     },
     "execution_count": 10,
     "metadata": {},
     "output_type": "execute_result"
    }
   ],
   "source": [
    "(let ((lines (uiop:read-file-lines \"input_day4.txt\")))\n",
    "     (loop for line in lines\n",
    "           count (ppcre:register-groups-bind ((#'parse-integer a b c d))\n",
    "            (\"(\\\\d+)-(\\\\d+),(\\\\d+)-(\\\\d+)\" line)\n",
    "            ;; assumes ordered a,b and c,d\n",
    "            (or (and (>= a c) (<= b d)) (and (>= c a) (<= d b))))\n",
    "    )\n",
    ")"
   ]
  },
  {
   "cell_type": "code",
   "execution_count": 11,
   "id": "08a6b203-ef45-469f-a438-5415f5eee227",
   "metadata": {},
   "outputs": [
    {
     "data": {
      "text/plain": [
       "911"
      ]
     },
     "execution_count": 11,
     "metadata": {},
     "output_type": "execute_result"
    }
   ],
   "source": [
    "(let ((lines (uiop:read-file-lines \"input_day4.txt\")))\n",
    "     (loop for line in lines\n",
    "           count (ppcre:register-groups-bind ((#'parse-integer a b c d))\n",
    "            (\"(\\\\d+)-(\\\\d+),(\\\\d+)-(\\\\d+)\" line)\n",
    "            ;; check whether any limit lies within the other bounds\n",
    "            (or (and (>= a c) (<= a d)) (and (>= b c) (<= b d)) (and (>= c a) (<= c b)) (and (>= d a) (<= d b))))\n",
    "    )\n",
    ")"
   ]
  },
  {
   "cell_type": "markdown",
   "id": "33484792-5079-4b54-9a99-1718d8431082",
   "metadata": {},
   "source": [
    "# Day 5"
   ]
  },
  {
   "cell_type": "markdown",
   "id": "04b392a0-df18-46b4-b50f-5cc12ab1f305",
   "metadata": {},
   "source": [
    "## Part 1\n",
    "\n",
    "Rearange crates. Puzzle input:\n",
    "\n",
    "```\n",
    "    [H]         [D]     [P]        \n",
    "[W] [B]         [C] [Z] [D]        \n",
    "[T] [J]     [T] [J] [D] [J]        \n",
    "[H] [Z]     [H] [H] [W] [S]     [M]\n",
    "[P] [F] [R] [P] [Z] [F] [W]     [F]\n",
    "[J] [V] [T] [N] [F] [G] [Z] [S] [S]\n",
    "[C] [R] [P] [S] [V] [M] [V] [D] [Z]\n",
    "[F] [G] [H] [Z] [N] [P] [M] [N] [D]\n",
    " 1   2   3   4   5   6   7   8   9 \n",
    "```"
   ]
  },
  {
   "cell_type": "code",
   "execution_count": 12,
   "id": "ef9466cc-c967-44f4-b375-801fe725af32",
   "metadata": {},
   "outputs": [
    {
     "data": {
      "text/plain": [
       "CRATES"
      ]
     },
     "execution_count": 12,
     "metadata": {},
     "output_type": "execute_result"
    },
    {
     "data": {
      "text/plain": [
       "NIL"
      ]
     },
     "execution_count": 12,
     "metadata": {},
     "output_type": "execute_result"
    },
    {
     "data": {
      "text/plain": [
       "NIL"
      ]
     },
     "execution_count": 12,
     "metadata": {},
     "output_type": "execute_result"
    },
    {
     "name": "stdout",
     "output_type": "stream",
     "text": [
      "ZFSJBPRFP"
     ]
    }
   ],
   "source": [
    "(defparameter crates (list\n",
    "                      (list \"W\" \"T\" \"H\" \"P\" \"J\" \"C\" \"F\" )\n",
    "                      (list \"H\" \"B\" \"J\" \"Z\" \"F\" \"V\" \"R\" \"G\")\n",
    "                      (list \"R\" \"T\" \"P\" \"H\")\n",
    "                      (list \"T\" \"H\" \"P\" \"N\" \"S\" \"Z\")\n",
    "                      (list \"D\" \"C\" \"J\" \"H\" \"Z\" \"F\" \"V\" \"N\")\n",
    "                      (list \"Z\" \"D\" \"W\" \"F\" \"G\" \"M\" \"P\")\n",
    "                      (list \"P\" \"D\" \"J\" \"S\" \"W\" \"Z\" \"V\" \"M\")\n",
    "                      (list \"S\" \"D\" \"N\")\n",
    "                      (list \"M\" \"F\" \"S\" \"Z\" \"D\")))\n",
    "\n",
    "(let ((lines (uiop:read-file-lines \"input_day5.txt\")))\n",
    "     (loop for line in lines\n",
    "           do (ppcre:register-groups-bind ((#'parse-integer to_move from_stack to_stack))\n",
    "            (\"move (\\\\d+) from (\\\\d+) to (\\\\d+)\" line)\n",
    "            (let ((tmp_stack nil))\n",
    "                 (progn\n",
    "                     (loop repeat to_move do (push (pop (elt crates (1- from_stack))) tmp_stack))\n",
    "                     (loop repeat to_move do (push (pop tmp_stack) (elt crates (1- to_stack))))\n",
    "                )))))\n",
    "(loop for stack in crates do (format t \"~a\" (first stack)))"
   ]
  }
 ],
 "metadata": {
  "kernelspec": {
   "display_name": "Common Lisp",
   "language": "common-lisp",
   "name": "common-lisp"
  },
  "language_info": {
   "codemirror_mode": "text/x-common-lisp",
   "file_extension": ".lisp",
   "mimetype": "text/x-common-lisp",
   "name": "common-lisp",
   "pygments_lexer": "common-lisp",
   "version": "2.2.11"
  }
 },
 "nbformat": 4,
 "nbformat_minor": 5
}
