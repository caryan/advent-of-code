{
 "cells": [
  {
   "cell_type": "markdown",
   "id": "2a59feab-9278-4311-9e6f-0bd67797cd48",
   "metadata": {},
   "source": [
    "# Day 1"
   ]
  },
  {
   "cell_type": "markdown",
   "id": "a1f052f9-7fd5-4d85-8304-d4ec0297ca45",
   "metadata": {},
   "source": [
    "## Part 1\n",
    "Figure out the most calories carried by any elf."
   ]
  },
  {
   "cell_type": "code",
   "execution_count": 1,
   "id": "88a6fb9c-2aad-44c4-96fb-61950819a9ae",
   "metadata": {},
   "outputs": [
    {
     "data": {
      "text/plain": [
       "68923"
      ]
     },
     "execution_count": 1,
     "metadata": {},
     "output_type": "execute_result"
    }
   ],
   "source": [
    "; TODO stream process line by by line rather than read in the entire file into memory\n",
    "(let ((lines (uiop:read-file-lines \"input_day_1.txt\"))\n",
    "      ; temporary accumulator for each elfs calories\n",
    "      (cal_ct 0)\n",
    "      ; variable to track the maximum calories per elf\n",
    "      (max_cal 0))\n",
    "    (dolist (line lines)\n",
    "        ; elves are demarcated by empty lines\n",
    "        (if (string= \"\" line)\n",
    "            (progn (when (> cal_ct max_cal) (setq max_cal cal_ct)) (setq cal_ct 0))\n",
    "            (incf cal_ct (parse-integer line))\n",
    "        )\n",
    "    )\n",
    " ; return the maximum number of calories found on an elf\n",
    " max_cal)\n",
    "    "
   ]
  },
  {
   "cell_type": "markdown",
   "id": "8d7fc65f-d672-4d8c-87ab-68a9859a4433",
   "metadata": {},
   "source": [
    "## Part 2\n",
    "\n",
    "Find the sum of the calories for the top 3 elves. "
   ]
  },
  {
   "cell_type": "code",
   "execution_count": 2,
   "id": "6d3ccb9c-15eb-49ef-bd1b-f31f509f0bcd",
   "metadata": {},
   "outputs": [
    {
     "data": {
      "text/plain": [
       "200044"
      ]
     },
     "execution_count": 2,
     "metadata": {},
     "output_type": "execute_result"
    }
   ],
   "source": [
    "(let (\n",
    "      (lines (uiop:read-file-lines \"input_day_1.txt\"))\n",
    "      (cal_ct 0)\n",
    "      (calories nil))\n",
    "    (dolist (line lines)\n",
    "        (if (string= \"\" line)\n",
    "            (progn (push cal_ct calories) (setq cal_ct 0))\n",
    "            (progn (incf cal_ct (parse-integer line)))\n",
    "        )\n",
    "    )\n",
    "    (let ((sorted (sort calories #'>)))\n",
    "         (+ (first sorted) (second sorted) (third sorted)))\n",
    ")\n"
   ]
  },
  {
   "cell_type": "markdown",
   "id": "f30addbd-8e3c-49af-97a3-9726f0e6b4cf",
   "metadata": {},
   "source": [
    "# Day 2"
   ]
  },
  {
   "cell_type": "markdown",
   "id": "1b498ede-387d-48e7-9711-4dc781cb2f67",
   "metadata": {},
   "source": [
    "## Part 1\n",
    "\n",
    "Score games of rock-paper-scissors. We'll try first with a brute force if-else chain."
   ]
  },
  {
   "cell_type": "code",
   "execution_count": 3,
   "id": "ad1d36ab-0ff1-4958-ac60-87d884759740",
   "metadata": {},
   "outputs": [
    {
     "data": {
      "text/plain": [
       "SCORE_SELECTED_SHAPE"
      ]
     },
     "execution_count": 3,
     "metadata": {},
     "output_type": "execute_result"
    },
    {
     "data": {
      "text/plain": [
       "SCORE_ROCK_PAPER_SCISSORS"
      ]
     },
     "execution_count": 3,
     "metadata": {},
     "output_type": "execute_result"
    },
    {
     "data": {
      "text/plain": [
       "SCORE_GAME"
      ]
     },
     "execution_count": 3,
     "metadata": {},
     "output_type": "execute_result"
    },
    {
     "data": {
      "text/plain": [
       "11475"
      ]
     },
     "execution_count": 3,
     "metadata": {},
     "output_type": "execute_result"
    }
   ],
   "source": [
    "(defun score_selected_shape (b)\n",
    "     (if (string= b \"X\")\n",
    "         ; 1 point for playing rock\n",
    "         1\n",
    "         (if (string= b \"Y\")\n",
    "             ; 2 points for playing paper\n",
    "             2\n",
    "             (if (string= b \"Z\")\n",
    "                 ; 3 points for playing scissors\n",
    "                 3))))\n",
    "\n",
    "(defun score_rock_paper_scissors (a b)\n",
    "    ; they played rock\n",
    "    (if (string= a \"A\")\n",
    "        ; we played rock -> tie\n",
    "        (if (string= b \"X\")\n",
    "            3\n",
    "            ; we played paper -> we won\n",
    "            (if (string= b \"Y\")\n",
    "                6\n",
    "                ; we played scissors -> we lost\n",
    "                (if (string= b \"Z\")\n",
    "                    0)))\n",
    "    ; they played paper\n",
    "    (if (string= a \"B\")\n",
    "        ; we played rock -> we lose\n",
    "        (if (string= b \"X\")\n",
    "            0\n",
    "            ; we played paper -> tie\n",
    "            (if (string= b \"Y\")\n",
    "                3\n",
    "                ; we played scissors -> we win\n",
    "                (if (string= b \"Z\")\n",
    "                    6)))\n",
    "    ; they played scissors\n",
    "    (if (string= a \"C\")\n",
    "        ; we played rock -> we win\n",
    "        (if (string= b \"X\")\n",
    "            6\n",
    "            ; we played paper -> we lose\n",
    "            (if (string= b \"Y\")\n",
    "                0\n",
    "                ; we played scissors -> tie\n",
    "                (if (string= b \"Z\")\n",
    "                    3)))))))\n",
    "\n",
    "(defun score_game (a b)\n",
    "    \"Score a single game of rock-paper-scissors. Opponent plays `a` from {A,B,C}` we play `b` from {X,Y,Z}\"\n",
    "    (+ (score_selected_shape b) (score_rock_paper_scissors a b)))\n",
    "    \n",
    "(let ((lines (uiop:read-file-lines \"input_day_2.txt\")))\n",
    "     (loop for line in lines sum (score_game (string (char line 0)) (string (char line 2)))))"
   ]
  },
  {
   "cell_type": "markdown",
   "id": "b97534ab-52e5-46f9-8eb0-1614dd514cb6",
   "metadata": {},
   "source": [
    "Now let's try association lists."
   ]
  },
  {
   "cell_type": "code",
   "execution_count": 4,
   "id": "cf239241-d352-42ed-8c6f-3c94a7a31134",
   "metadata": {},
   "outputs": [
    {
     "data": {
      "text/plain": [
       "11475"
      ]
     },
     "execution_count": 4,
     "metadata": {},
     "output_type": "execute_result"
    }
   ],
   "source": [
    "(let ((lines (uiop:read-file-lines \"input_day_2.txt\"))\n",
    "      (shape_score '((\"X\" . 1)(\"Y\" . 2) (\"Z\" . 3)))\n",
    "      (game_score '((\"A X\" . 3)\n",
    "                    (\"A Y\" . 6)\n",
    "                    (\"A Z\" . 0)\n",
    "                    (\"B X\" . 0)\n",
    "                    (\"B Y\" . 3)\n",
    "                    (\"B Z\" . 6)\n",
    "                    (\"C X\" . 6)\n",
    "                    (\"C Y\" . 0)\n",
    "                    (\"C Z\" . 3))))\n",
    "    (loop for line in lines\n",
    "          for tmp_shape_score = (cdr (assoc (char line 2) shape_score :test #'string=))\n",
    "          for tmp_game_score = (cdr (assoc line game_score :test #'string=))\n",
    "          sum (+ tmp_shape_score tmp_game_score)))"
   ]
  },
  {
   "cell_type": "markdown",
   "id": "1adaec99-0efb-4fcd-8342-8531fb682160",
   "metadata": {},
   "source": [
    "## Part 2\n",
    "\n",
    "Score games of rock paper scissors again."
   ]
  },
  {
   "cell_type": "code",
   "execution_count": 5,
   "id": "f9ed1688-c852-4f21-831b-64888f588cce",
   "metadata": {},
   "outputs": [
    {
     "data": {
      "text/plain": [
       "16862"
      ]
     },
     "execution_count": 5,
     "metadata": {},
     "output_type": "execute_result"
    }
   ],
   "source": [
    "(let ((lines (uiop:read-file-lines \"input_day_2.txt\"))\n",
    "      (shape_score '((\"X\" . 1)(\"Y\" . 2) (\"Z\" . 3)))\n",
    "      (game_score '((\"A X\" . 3)\n",
    "                    (\"A Y\" . 6)\n",
    "                    (\"A Z\" . 0)\n",
    "                    (\"B X\" . 0)\n",
    "                    (\"B Y\" . 3)\n",
    "                    (\"B Z\" . 6)\n",
    "                    (\"C X\" . 6)\n",
    "                    (\"C Y\" . 0)\n",
    "                    (\"C Z\" . 3)))\n",
    "      (what_play  '((\"A X\" . \"Z\") ;; they chose rock, we need to lose so choose scissors\n",
    "                    (\"A Y\" . \"X\")\n",
    "                    (\"A Z\" . \"Y\")\n",
    "                    (\"B X\" . \"X\") ;; they chose paper, we need to lose so choose rock\n",
    "                    (\"B Y\" . \"Y\")\n",
    "                    (\"B Z\" . \"Z\")\n",
    "                    (\"C X\" . \"Y\") ;; they chose scissors, we need to lose so choose paper\n",
    "                    (\"C Y\" . \"Z\")\n",
    "                    (\"C Z\" . \"X\"))))\n",
    "    (loop for line in lines\n",
    "          for played = (cdr (assoc line what_play :test #'string=))\n",
    "          for tmp_shape_score = (cdr (assoc played shape_score :test #'string=))\n",
    "          for new_line = (replace line played :start1 2)\n",
    "          for tmp_game_score = (cdr (assoc new_line game_score :test #'string=))\n",
    "          sum (+ tmp_shape_score tmp_game_score)))\n"
   ]
  },
  {
   "cell_type": "markdown",
   "id": "11083d17-e563-4799-af7e-845456efb555",
   "metadata": {},
   "source": [
    "# Day 3"
   ]
  },
  {
   "cell_type": "markdown",
   "id": "ba1859c9-6da9-4ffd-af6f-4bab5300999d",
   "metadata": {},
   "source": [
    "## Part 1\n",
    "\n",
    "Sum of priorities of items in both compartments."
   ]
  },
  {
   "cell_type": "code",
   "execution_count": 6,
   "id": "e10d852f-cc14-43de-a080-92fa73d5bd86",
   "metadata": {},
   "outputs": [
    {
     "data": {
      "text/plain": [
       "PRIORITIES"
      ]
     },
     "execution_count": 6,
     "metadata": {},
     "output_type": "execute_result"
    },
    {
     "data": {
      "text/plain": [
       "FIND_ITEM_IN_BOTH"
      ]
     },
     "execution_count": 6,
     "metadata": {},
     "output_type": "execute_result"
    },
    {
     "data": {
      "text/plain": [
       "7903"
      ]
     },
     "execution_count": 6,
     "metadata": {},
     "output_type": "execute_result"
    }
   ],
   "source": [
    ";; alist mapping characters to integer priority\n",
    "(defparameter priorities (concatenate 'list\n",
    "                   (loop for i from 1 to 26 collect (cons (code-char (+ 96 i)) i))\n",
    "                   (loop for i from 1 to 26 collect (cons (code-char (+ 64 i)) (+ 26 i)))))\n",
    "\n",
    "(defun find_item_in_both (contents)\n",
    "    \"Find character that is in both the first half and second half of the `contents` string.\"\n",
    "    (let ((first_half (subseq contents 0 (/ (length contents) 2)))\n",
    "          (second_half (subseq contents (/ (length contents) 2))))\n",
    "         ;; assume there is only one so can take first item in intersection of characters\n",
    "         (first (intersection (coerce first_half 'list) (coerce second_half 'list))))\n",
    ")\n",
    "\n",
    "(let ((lines (uiop:read-file-lines \"input_day_3.txt\")))\n",
    "     (loop for line in lines\n",
    "           sum (cdr (assoc (find_item_in_both line) priorities)))\n",
    ")"
   ]
  },
  {
   "cell_type": "code",
   "execution_count": 7,
   "id": "cd06c92a-ce1b-4b84-a6ca-bc6312a2c8a3",
   "metadata": {},
   "outputs": [
    {
     "data": {
      "text/plain": [
       "2548"
      ]
     },
     "execution_count": 7,
     "metadata": {},
     "output_type": "execute_result"
    }
   ],
   "source": [
    "(let ((lines (uiop:read-file-lines \"input_day_3.txt\")))\n",
    "    ;; step by groups of 3\n",
    "     (loop for x upto (- (/ (length lines) 3) 1)\n",
    "           for group = (subseq lines (* 3 x) (+ (* 3 x) 3))\n",
    "           ;; do (print (reduce #'intersection (mapcar (lambda (x) (coerce x 'list)) group))))\n",
    "           sum (cdr (assoc (first (reduce #'intersection (mapcar (lambda (x) (coerce x 'list)) group))) priorities)))\n",
    ")"
   ]
  },
  {
   "cell_type": "markdown",
   "id": "989ee61a-f66f-43b4-8585-eef04205e346",
   "metadata": {},
   "source": [
    "`intersection` assumes set lists where \"A set doesn’t contain twice the same element and is unordered\". ([cookbook intersection of lists](https://lispcookbook.github.io/cl-cookbook/data-structures.html#intersection-of-lists)). If we have repeated elements in the list then we get multiple results\n"
   ]
  },
  {
   "cell_type": "code",
   "execution_count": 8,
   "id": "a186826e-71fe-483f-9ccb-2f4242b9c563",
   "metadata": {},
   "outputs": [
    {
     "data": {
      "text/plain": [
       "(#\\b #\\b #\\b)"
      ]
     },
     "execution_count": 8,
     "metadata": {},
     "output_type": "execute_result"
    }
   ],
   "source": [
    "(reduce #'intersection (mapcar (lambda (x) (coerce x 'list)) (list \"hlLwDGLNnTrbNdtbdb\" \"ZfsvJbsJTrsttHTR\" \"vjPQJPFcmZjVFZFvbbVcJZJPBBhLMnDBznnGMDLMwBhlmBBl\")))"
   ]
  },
  {
   "cell_type": "markdown",
   "id": "257518c9-848f-4aac-852b-963e40464c6e",
   "metadata": {},
   "source": [
    "# Day 4"
   ]
  },
  {
   "cell_type": "markdown",
   "id": "8ca2e24c-f319-4aee-aa4d-7daac5c25f7d",
   "metadata": {},
   "source": [
    "## Part 1\n",
    "\n",
    "Calculate number of complete overlaps."
   ]
  },
  {
   "cell_type": "code",
   "execution_count": 9,
   "id": "8b249f38-49ea-4a54-9f90-fa531371271d",
   "metadata": {},
   "outputs": [
    {
     "name": "stdout",
     "output_type": "stream",
     "text": [
      "To load \"cl-ppcre\":\n",
      "  Load 1 ASDF system:\n",
      "    cl-ppcre\n",
      "; Loading \"cl-ppcre\"\n",
      ".."
     ]
    },
    {
     "data": {
      "text/plain": [
       "(\"cl-ppcre\")"
      ]
     },
     "execution_count": 9,
     "metadata": {},
     "output_type": "execute_result"
    },
    {
     "name": "stdout",
     "output_type": "stream",
     "text": [
      "\n"
     ]
    }
   ],
   "source": [
    "(ql:quickload \"cl-ppcre\")"
   ]
  },
  {
   "cell_type": "code",
   "execution_count": 10,
   "id": "59e816e1-8100-43e2-8b0a-afbf83240731",
   "metadata": {},
   "outputs": [
    {
     "data": {
      "text/plain": [
       "588"
      ]
     },
     "execution_count": 10,
     "metadata": {},
     "output_type": "execute_result"
    }
   ],
   "source": [
    "(let ((lines (uiop:read-file-lines \"input_day_4.txt\")))\n",
    "     (loop for line in lines\n",
    "           count (ppcre:register-groups-bind ((#'parse-integer a b c d))\n",
    "            (\"(\\\\d+)-(\\\\d+),(\\\\d+)-(\\\\d+)\" line)\n",
    "            ;; assumes ordered a,b and c,d\n",
    "            (or (and (>= a c) (<= b d)) (and (>= c a) (<= d b))))\n",
    "    )\n",
    ")"
   ]
  },
  {
   "cell_type": "code",
   "execution_count": 11,
   "id": "08a6b203-ef45-469f-a438-5415f5eee227",
   "metadata": {},
   "outputs": [
    {
     "data": {
      "text/plain": [
       "911"
      ]
     },
     "execution_count": 11,
     "metadata": {},
     "output_type": "execute_result"
    }
   ],
   "source": [
    "(let ((lines (uiop:read-file-lines \"input_day_4.txt\")))\n",
    "     (loop for line in lines\n",
    "           count (ppcre:register-groups-bind ((#'parse-integer a b c d))\n",
    "            (\"(\\\\d+)-(\\\\d+),(\\\\d+)-(\\\\d+)\" line)\n",
    "            ;; check whether any limit lies within the other bounds\n",
    "            (or (and (>= a c) (<= a d)) (and (>= b c) (<= b d)) (and (>= c a) (<= c b)) (and (>= d a) (<= d b))))\n",
    "    )\n",
    ")"
   ]
  },
  {
   "cell_type": "markdown",
   "id": "33484792-5079-4b54-9a99-1718d8431082",
   "metadata": {},
   "source": [
    "# Day 5"
   ]
  },
  {
   "cell_type": "markdown",
   "id": "04b392a0-df18-46b4-b50f-5cc12ab1f305",
   "metadata": {},
   "source": [
    "## Part 1\n",
    "\n",
    "Rearange crates. Puzzle input:\n",
    "\n",
    "```\n",
    "    [H]         [D]     [P]        \n",
    "[W] [B]         [C] [Z] [D]        \n",
    "[T] [J]     [T] [J] [D] [J]        \n",
    "[H] [Z]     [H] [H] [W] [S]     [M]\n",
    "[P] [F] [R] [P] [Z] [F] [W]     [F]\n",
    "[J] [V] [T] [N] [F] [G] [Z] [S] [S]\n",
    "[C] [R] [P] [S] [V] [M] [V] [D] [Z]\n",
    "[F] [G] [H] [Z] [N] [P] [M] [N] [D]\n",
    " 1   2   3   4   5   6   7   8   9 \n",
    "```"
   ]
  },
  {
   "cell_type": "code",
   "execution_count": 12,
   "id": "ef9466cc-c967-44f4-b375-801fe725af32",
   "metadata": {},
   "outputs": [
    {
     "data": {
      "text/plain": [
       "CRATES"
      ]
     },
     "execution_count": 12,
     "metadata": {},
     "output_type": "execute_result"
    },
    {
     "data": {
      "text/plain": [
       "NIL"
      ]
     },
     "execution_count": 12,
     "metadata": {},
     "output_type": "execute_result"
    },
    {
     "data": {
      "text/plain": [
       "NIL"
      ]
     },
     "execution_count": 12,
     "metadata": {},
     "output_type": "execute_result"
    },
    {
     "name": "stdout",
     "output_type": "stream",
     "text": [
      "ZFSJBPRFP"
     ]
    }
   ],
   "source": [
    "(defparameter crates (list\n",
    "                      (list \"W\" \"T\" \"H\" \"P\" \"J\" \"C\" \"F\" )\n",
    "                      (list \"H\" \"B\" \"J\" \"Z\" \"F\" \"V\" \"R\" \"G\")\n",
    "                      (list \"R\" \"T\" \"P\" \"H\")\n",
    "                      (list \"T\" \"H\" \"P\" \"N\" \"S\" \"Z\")\n",
    "                      (list \"D\" \"C\" \"J\" \"H\" \"Z\" \"F\" \"V\" \"N\")\n",
    "                      (list \"Z\" \"D\" \"W\" \"F\" \"G\" \"M\" \"P\")\n",
    "                      (list \"P\" \"D\" \"J\" \"S\" \"W\" \"Z\" \"V\" \"M\")\n",
    "                      (list \"S\" \"D\" \"N\")\n",
    "                      (list \"M\" \"F\" \"S\" \"Z\" \"D\")))\n",
    "\n",
    "(let ((lines (uiop:read-file-lines \"input_day_5.txt\")))\n",
    "     (loop for line in lines\n",
    "           do (ppcre:register-groups-bind ((#'parse-integer to_move from_stack to_stack))\n",
    "            (\"move (\\\\d+) from (\\\\d+) to (\\\\d+)\" line)\n",
    "            (let ((tmp_stack nil))\n",
    "                 (progn\n",
    "                     (loop repeat to_move do (push (pop (elt crates (1- from_stack))) tmp_stack))\n",
    "                     (loop repeat to_move do (push (pop tmp_stack) (elt crates (1- to_stack))))\n",
    "                )))))\n",
    "(loop for stack in crates do (format t \"~a\" (first stack)))"
   ]
  },
  {
   "cell_type": "markdown",
   "id": "81ff939d-c149-4631-87a7-06c27bb7868f",
   "metadata": {},
   "source": [
    "# Day 6"
   ]
  },
  {
   "cell_type": "markdown",
   "id": "7377b9ce-59fb-4570-8f8f-1e6e1e6ddac2",
   "metadata": {},
   "source": [
    "## Part 1\n",
    "\n",
    "Find the start of frame marker with 4 unique characters. "
   ]
  },
  {
   "cell_type": "code",
   "execution_count": 13,
   "id": "6cb89a07-f5c0-49e2-9ebf-06b195bf3b7c",
   "metadata": {},
   "outputs": [
    {
     "data": {
      "text/plain": [
       "DATASTREAM"
      ]
     },
     "execution_count": 13,
     "metadata": {},
     "output_type": "execute_result"
    }
   ],
   "source": [
    "(defparameter datastream (uiop:read-file-string \"input_day_6.txt\"))\n",
    ";; (defparameter datastream \"mjqjpqmgbljsphdztnvjfqwrcgsmlb\")"
   ]
  },
  {
   "cell_type": "code",
   "execution_count": 14,
   "id": "7b5bac1c-b7be-4f3e-9b20-409cc4f28342",
   "metadata": {},
   "outputs": [
    {
     "data": {
      "text/plain": [
       "1848"
      ]
     },
     "execution_count": 14,
     "metadata": {},
     "output_type": "execute_result"
    }
   ],
   "source": [
    "(loop for i from 4 to (1- (length datastream))\n",
    "      when (> (length (remove-duplicates (subseq datastream (- i 4) i) )) 3) return i)"
   ]
  },
  {
   "cell_type": "markdown",
   "id": "da86980e-260f-4269-87dc-e0ee9d170e33",
   "metadata": {},
   "source": [
    "## Part 2\n",
    "\n",
    "Start of message with 14 unique characters. Let's make a more generic function."
   ]
  },
  {
   "cell_type": "code",
   "execution_count": 15,
   "id": "0dbd3da6-ffb2-4b1d-9b0e-74fa68d2c9c7",
   "metadata": {},
   "outputs": [
    {
     "data": {
      "text/plain": [
       "FIND_SOF"
      ]
     },
     "execution_count": 15,
     "metadata": {},
     "output_type": "execute_result"
    }
   ],
   "source": [
    "(defun find_sof (ds len)\n",
    "    (loop for i from len to (1- (length ds))\n",
    "      when (> (length (remove-duplicates (subseq ds (- i len) i) )) (1- len)) return i))\n",
    "    "
   ]
  },
  {
   "cell_type": "code",
   "execution_count": 16,
   "id": "c6797b23-5bcc-4864-a255-8713257bb5a4",
   "metadata": {},
   "outputs": [
    {
     "data": {
      "text/plain": [
       "2308"
      ]
     },
     "execution_count": 16,
     "metadata": {},
     "output_type": "execute_result"
    }
   ],
   "source": [
    "(find_sof datastream 14)"
   ]
  },
  {
   "cell_type": "markdown",
   "id": "a41faa53-cd77-4c17-b2cb-34a4e6623f06",
   "metadata": {},
   "source": [
    "# Day 7"
   ]
  },
  {
   "cell_type": "markdown",
   "id": "13548548-e986-4212-b79d-3cddbba3b8ed",
   "metadata": {},
   "source": [
    "## Part 1\n",
    "\n",
    "Walk a directory structure given a series of terminal inputs and outputs. We'll need a few more pieces here:\n",
    "1. a tree structure with `folder` and `file` objects; the tree could be a recursive nested list of lists where the nodes are directories and the files are leaf nodes\n",
    "2. a `folder` has a `name`, `parent` and `children`\n",
    "3. a `file` has a `name`, `parent`, and `size` \n",
    "4. a state machine to parse the input and build the tree"
   ]
  },
  {
   "cell_type": "code",
   "execution_count": 17,
   "id": "368a1f76-5f5b-4a65-846a-3dc3811a9d32",
   "metadata": {},
   "outputs": [
    {
     "data": {
      "text/plain": [
       "#<STANDARD-CLASS COMMON-LISP-USER::FOLDER>"
      ]
     },
     "execution_count": 17,
     "metadata": {},
     "output_type": "execute_result"
    },
    {
     "data": {
      "text/plain": [
       "#<STANDARD-CLASS COMMON-LISP-USER::FILE>"
      ]
     },
     "execution_count": 17,
     "metadata": {},
     "output_type": "execute_result"
    },
    {
     "data": {
      "text/plain": [
       "#<STANDARD-METHOD COMMON-LISP-USER::ADD-CHILD (FOLDER FILE) {70056A3083}>"
      ]
     },
     "execution_count": 17,
     "metadata": {},
     "output_type": "execute_result"
    },
    {
     "data": {
      "text/plain": [
       "#<STANDARD-METHOD COMMON-LISP-USER::ADD-CHILD (FOLDER FOLDER) {7005720663}>"
      ]
     },
     "execution_count": 17,
     "metadata": {},
     "output_type": "execute_result"
    },
    {
     "data": {
      "text/plain": [
       "#<STANDARD-METHOD COMMON-LISP-USER::GET-CHILD-BY-NAME (FOLDER STRING) {70057C86C3}>"
      ]
     },
     "execution_count": 17,
     "metadata": {},
     "output_type": "execute_result"
    },
    {
     "data": {
      "text/plain": [
       "#<STANDARD-METHOD COMMON-LISP-USER::SIZE (FOLDER) {700582B683}>"
      ]
     },
     "execution_count": 17,
     "metadata": {},
     "output_type": "execute_result"
    }
   ],
   "source": [
    "(defclass folder ()\n",
    "    ((name :initarg :name :accessor name)\n",
    "     (parent :initarg :parent :initform nil :accessor parent)\n",
    "     (children :initform nil :accessor children)))\n",
    "\n",
    "(defclass file ()\n",
    "    ((name :initarg :name :accessor name)\n",
    "     (parent :initarg :parent :accessor parent)\n",
    "     (size :initarg :size :accessor size)))\n",
    "\n",
    ";; add a child to a folder\n",
    "(defmethod add-child ((target folder) (child file))\n",
    "    (setf (parent child) target)\n",
    "    (push child (children target)))\n",
    "(defmethod add-child ((target folder) (child folder))\n",
    "    (setf (parent child) target)\n",
    "    (push child (children target)))\n",
    "\n",
    ";; get child by name\n",
    "(defmethod get-child-by-name ((target folder) (child-name string))\n",
    "    (find-if #'(lambda (x) (string= (name x) child-name)) (children target)))\n",
    "\n",
    ";; directory size\n",
    "(defmethod size ((dir folder))\n",
    "    (reduce '+ (children dir) :key (lambda (x) (size x))))"
   ]
  },
  {
   "cell_type": "code",
   "execution_count": 18,
   "id": "ba3e555d-7d8d-4be2-a249-996cda4b444c",
   "metadata": {},
   "outputs": [
    {
     "name": "stdout",
     "output_type": "stream",
     "text": [
      "To load \"cl-ppcre\":\n",
      "  Load 1 ASDF system:\n",
      "    cl-ppcre\n"
     ]
    },
    {
     "data": {
      "text/plain": [
       "(\"cl-ppcre\")"
      ]
     },
     "execution_count": 18,
     "metadata": {},
     "output_type": "execute_result"
    },
    {
     "name": "stdout",
     "output_type": "stream",
     "text": [
      "; Loading \"cl-ppcre\"\n",
      "\n"
     ]
    }
   ],
   "source": [
    "(ql:quickload \"cl-ppcre\")"
   ]
  },
  {
   "cell_type": "code",
   "execution_count": 19,
   "id": "8e204195-12fb-439c-aed9-d88851c1a510",
   "metadata": {},
   "outputs": [
    {
     "data": {
      "text/plain": [
       "#<STANDARD-CLASS COMMON-LISP-USER::TERMINAL-PARSER>"
      ]
     },
     "execution_count": 19,
     "metadata": {},
     "output_type": "execute_result"
    },
    {
     "data": {
      "text/plain": [
       "#<STANDARD-METHOD COMMON-LISP-USER::PARSE-LINE (TERMINAL-PARSER STRING) {7005D45BF3}>"
      ]
     },
     "execution_count": 19,
     "metadata": {},
     "output_type": "execute_result"
    },
    {
     "name": "stdout",
     "output_type": "stream",
     "text": [
      "SB-INT:TYPE-STYLE-WARNING: This is not a STRING:\n",
      " NIL\n",
      "See also:\n",
      "  The SBCL Manual, Node \"Handling of Types\"\n",
      "SIMPLE-WARNING: undefined variable: COMMON-LISP-USER::ROOT\n"
     ]
    }
   ],
   "source": [
    "(defclass terminal-parser ()\n",
    "    ((current-directory :initform nil :accessor pwd)))\n",
    "\n",
    "(defmethod parse-line ((tp terminal-parser) (line string))\n",
    "    (cond\n",
    "        ;; list the folder contents - nothing for us to do but would be nice to track state\n",
    "        ((string= line \"$ ls\")\n",
    "         ;; (format t \"~&Listing folder contents\")\n",
    "         )\n",
    "        ;; change directory commands\n",
    "        ((ppcre:register-groups-bind (cd_to) (\"\\\\$ cd ([\\\\w\\\\/\\\\.]+)\" line)\n",
    "            (cond \n",
    "                ((string= cd_to \"/\")\n",
    "                     ;; (format t \"~&Moving to root\")\n",
    "                     (setf (pwd tp) root))\n",
    "                ((string= cd_to \"..\")\n",
    "                     ;; (format t \"~&Moving up to parent\")\n",
    "                     (setf (pwd tp) (parent (pwd tp))))\n",
    "                (t\n",
    "                     ;; (format t \"~&Moving to folder ~a\" cd_to)\n",
    "                     (setf (pwd tp) (get-child-by-name (pwd tp) cd_to))))))\n",
    "        ;; a directory listing\n",
    "        ((ppcre:register-groups-bind (folder_name) (\"dir (\\\\w+)\" line)\n",
    "             ;; (format t \"~&Adding folder named ~a to children of ~a\" folder_name (name (pwd tp)))\n",
    "             (add-child (pwd tp) (make-instance 'folder :name folder_name))))         \n",
    "        \n",
    "        ;; a file listing\n",
    "        ((ppcre:register-groups-bind (file_size file_name) (\"(\\\\d+) ([\\\\w\\\\.]+)\" line)\n",
    "             ;; (format t \"~&Adding file named ~a with size ~a to children of ~a\" file_name file_size (name (pwd tp)))\n",
    "             (add-child (pwd tp) (make-instance 'file :name file_name :size (parse-integer file_size)))))         \n",
    "        \n",
    "    ))\n",
    "            "
   ]
  },
  {
   "cell_type": "code",
   "execution_count": 20,
   "id": "def95a40-950c-4d8b-91c6-b949892ff26c",
   "metadata": {},
   "outputs": [
    {
     "data": {
      "text/plain": [
       "TP"
      ]
     },
     "execution_count": 20,
     "metadata": {},
     "output_type": "execute_result"
    },
    {
     "data": {
      "text/plain": [
       "ROOT"
      ]
     },
     "execution_count": 20,
     "metadata": {},
     "output_type": "execute_result"
    },
    {
     "data": {
      "text/plain": [
       "NIL"
      ]
     },
     "execution_count": 20,
     "metadata": {},
     "output_type": "execute_result"
    }
   ],
   "source": [
    "(defparameter tp (make-instance 'terminal-parser))\n",
    "(defparameter root (make-instance 'folder :name \"root\"))\n",
    "\n",
    "(let ((lines (uiop:read-file-lines \"input_day_7.txt\")))\n",
    "     (loop for line in lines do (parse-line tp line)))"
   ]
  },
  {
   "cell_type": "markdown",
   "id": "788614b4-8f60-4d65-9aea-b6d96ec5411e",
   "metadata": {},
   "source": [
    "Recursion based approach. Since the `size` method is already recursive the rewalks the tree many times.  "
   ]
  },
  {
   "cell_type": "code",
   "execution_count": 21,
   "id": "03662d4c-1834-4373-a8ec-f39987088267",
   "metadata": {},
   "outputs": [
    {
     "data": {
      "text/plain": [
       "FOLDER-SIZES"
      ]
     },
     "execution_count": 21,
     "metadata": {},
     "output_type": "execute_result"
    },
    {
     "data": {
      "text/plain": [
       "1989474"
      ]
     },
     "execution_count": 21,
     "metadata": {},
     "output_type": "execute_result"
    },
    {
     "name": "stdout",
     "output_type": "stream",
     "text": [
      "SB-INT:SIMPLE-STYLE-WARNING: The variable PWD is defined but never used.\n"
     ]
    }
   ],
   "source": [
    ";; depth-first walk of the file system\n",
    "(defun folder-sizes (pwd)\n",
    "    (labels ((rec (pwd acc)\n",
    "        (loop :for item :in (children pwd)\n",
    "              :when (typep item 'folder)\n",
    "              :do \n",
    "                  ;; (format t \"~& dir name ~a; item name: ~a\" (name pwd) (name item))\n",
    "                  (setf acc (append acc (rec item nil)))\n",
    "                  (push (size item) acc)\n",
    "                  ;; (format t \"~& acc: ~a\" acc) \n",
    "              :finally (return acc))))\n",
    "    (rec root nil)))\n",
    "(let ((sizes (folder-sizes root)))\n",
    "     (loop for s in sizes\n",
    "          :when (< s 100000) :sum s))"
   ]
  },
  {
   "cell_type": "markdown",
   "id": "35493d26-5f96-4a58-94e2-d5344c0a79fd",
   "metadata": {},
   "source": [
    "Queue based approach"
   ]
  },
  {
   "cell_type": "code",
   "execution_count": 22,
   "id": "6b07e14e-05b5-48f9-ab62-d86411617021",
   "metadata": {},
   "outputs": [
    {
     "data": {
      "text/plain": [
       "1989474"
      ]
     },
     "execution_count": 22,
     "metadata": {},
     "output_type": "execute_result"
    }
   ],
   "source": [
    "(let ((stack (remove-if-not (lambda (x) (typep x 'folder)) (children root)))\n",
    "      (sizes nil))\n",
    "    (loop :while (> (length stack) 0)\n",
    "        do\n",
    "        (push (size (first stack)) sizes)\n",
    "        (setf stack (append stack (remove-if-not (lambda (x) (typep x 'folder)) (children (first stack)))))\n",
    "        (pop stack))\n",
    "     \n",
    "    (loop for s in sizes\n",
    "          :when (< s 100000) :sum s))"
   ]
  },
  {
   "cell_type": "markdown",
   "id": "5621276b-ee8d-434f-ba8c-f359a29a631d",
   "metadata": {},
   "source": [
    "## Part 2\n",
    "\n",
    "Find which directory to delete to free up necessary space."
   ]
  },
  {
   "cell_type": "code",
   "execution_count": 23,
   "id": "7f7e3b83-1b2b-48bf-9424-068815b5146d",
   "metadata": {},
   "outputs": [
    {
     "data": {
      "text/plain": [
       "1111607"
      ]
     },
     "execution_count": 23,
     "metadata": {},
     "output_type": "execute_result"
    }
   ],
   "source": [
    "(let ((sizes (folder-sizes root))\n",
    "      (disk-size 70000000)\n",
    "      (space-needed 30000000))\n",
    "     ;; find out how much we need to delete\n",
    "     (let ((min-delete (- space-needed (- disk-size (size root)))))\n",
    "     ;; should defend against not needing to delete anything\n",
    "     (loop for s in (sort sizes #'<)\n",
    "           :when (> s min-delete)\n",
    "           :return s)))"
   ]
  },
  {
   "cell_type": "markdown",
   "id": "e8dc5396-f828-4309-a169-0297b5e64df1",
   "metadata": {},
   "source": [
    "# Day 8"
   ]
  },
  {
   "cell_type": "markdown",
   "id": "3686ab5c-c450-4a6f-9cff-0baf3fb095e1",
   "metadata": {},
   "source": [
    "## Part 1\n",
    "\n",
    "Find how many trees are visible.\n",
    "\n"
   ]
  },
  {
   "cell_type": "code",
   "execution_count": 24,
   "id": "d74b338d-29a7-4a58-8fd8-dfbd0ebbe8dc",
   "metadata": {},
   "outputs": [
    {
     "data": {
      "text/plain": [
       "INPUT-DAY-8"
      ]
     },
     "execution_count": 24,
     "metadata": {},
     "output_type": "execute_result"
    },
    {
     "data": {
      "text/plain": [
       "NUM-ROWS"
      ]
     },
     "execution_count": 24,
     "metadata": {},
     "output_type": "execute_result"
    },
    {
     "data": {
      "text/plain": [
       "NUM-COLS"
      ]
     },
     "execution_count": 24,
     "metadata": {},
     "output_type": "execute_result"
    },
    {
     "data": {
      "text/plain": [
       "TREE-HEIGHTS"
      ]
     },
     "execution_count": 24,
     "metadata": {},
     "output_type": "execute_result"
    },
    {
     "data": {
      "text/plain": [
       "NIL"
      ]
     },
     "execution_count": 24,
     "metadata": {},
     "output_type": "execute_result"
    }
   ],
   "source": [
    ";; read the input into a 2D array\n",
    "(defparameter input-day-8 (uiop:read-file-lines \"input_day_8.txt\"))\n",
    "(defparameter num-rows (length input-day-8))\n",
    "(defparameter num-cols (length (first input-day-8)))\n",
    "(defparameter tree-heights (make-array (list num-rows num-cols) :initial-element 0))\n",
    "(dotimes (i num-rows)\n",
    "    (dotimes (j num-cols)\n",
    "        (setf (aref tree-heights i j) (parse-integer (nth i input-day-8) :start j :end (1+ j)))))\n"
   ]
  },
  {
   "cell_type": "code",
   "execution_count": 25,
   "id": "7ea1f869-4635-4e47-a22d-53747ce9be6c",
   "metadata": {},
   "outputs": [
    {
     "data": {
      "text/plain": [
       "CHECK-VISIBLE"
      ]
     },
     "execution_count": 25,
     "metadata": {},
     "output_type": "execute_result"
    },
    {
     "data": {
      "text/plain": [
       "CHECK-VISIBLE-SCAN-TO-EDGE"
      ]
     },
     "execution_count": 25,
     "metadata": {},
     "output_type": "execute_result"
    },
    {
     "data": {
      "text/plain": [
       "1715"
      ]
     },
     "execution_count": 25,
     "metadata": {},
     "output_type": "execute_result"
    },
    {
     "data": {
      "text/plain": [
       "1715"
      ]
     },
     "execution_count": 25,
     "metadata": {},
     "output_type": "execute_result"
    },
    {
     "name": "stdout",
     "output_type": "stream",
     "text": [
      "SB-INT:SIMPLE-STYLE-WARNING: The variable VISIBLE is defined but never used.\n",
      "SB-INT:SIMPLE-STYLE-WARNING: undefined function: COMMON-LISP-USER::CHECK-VISIBLE-SCAN-TO-EDGE\n"
     ]
    }
   ],
   "source": [
    ";; given coordinates i,j check if the tree is visible in any direction\n",
    "(defun check-visible (i j tree-heights)\n",
    "    (let ((th (aref tree-heights i j))\n",
    "          (visible (make-array (list num-rows num-cols) :initial-element nil)))\n",
    "         ;; check for visible in each direction\n",
    "         ;; blocked if same height tree\n",
    "         (or\n",
    "          ;; check to the north\n",
    "          (check-visible-scan-to-edge (loop for k from (1- i) downto 0 collect (list k j)) th tree-heights)\n",
    "          ;; check to the east\n",
    "          (check-visible-scan-to-edge (loop for k from (1+ j) to (1- num-cols) collect (list i k)) th tree-heights)\n",
    "          ;; check to the south\n",
    "          (check-visible-scan-to-edge (loop for k from (1+ i) to (1- num-rows) collect (list k j)) th tree-heights)\n",
    "          ;; check to the west\n",
    "          (check-visible-scan-to-edge (loop for k from (1- j) downto 0 collect (list i k)) th tree-heights)\n",
    "    )))\n",
    "\n",
    ";; helper function given a list of coordinates that reaches and edge will check if visible\n",
    "(defun check-visible-scan-to-edge (coords tree-height tree-heights)\n",
    "    (loop for (i j) in coords\n",
    "          ;; do (format t \"~&i = ~a; j = ~a; tree-heights[i,j]  = ~a\" i j (aref tree-heights i j))\n",
    "    ;; greater height than something already visible then short circuit return visible\n",
    "    ;;    when (and (> height (aref tree-heights i j) (aref tree-visible i j)) return t\n",
    "    ;; smaller or equal height then shortcircuit return not-visible\n",
    "          when (<= tree-height (aref tree-heights i j)) return nil\n",
    "    ;; reach the edge then visible\n",
    "          finally (return t)\n",
    "    ))\n",
    "\n",
    ";; (check-visible-scan-to-edge (loop for i from -1 downto 0 collect (list i 1)) 1 tree-heights)\n",
    ";; (check-visible 0 0 tree-heights)\n",
    "\n",
    ";; iterate through the array and count up the visible\n",
    "(let ((visible-ct 0))\n",
    "     (dotimes (i num-rows)\n",
    "         (dotimes (j num-cols)\n",
    "             (when (check-visible i j tree-heights) (incf visible-ct))))\n",
    "     visible-ct)\n",
    "\n",
    ";; nested loop with sum and count\n",
    "(loop for i from 0 to (1- num-rows)\n",
    "      sum (loop for j from 0 to (1- num-cols) count (check-visible i j tree-heights)))"
   ]
  },
  {
   "cell_type": "markdown",
   "id": "e7141a63-00a3-4e6a-84cb-1c1de8c5cb67",
   "metadata": {},
   "source": [
    "## Part 2\n",
    "\n",
    "Scenic score"
   ]
  },
  {
   "cell_type": "code",
   "execution_count": 26,
   "id": "1d341103-aefd-4475-93c9-4af144f97446",
   "metadata": {},
   "outputs": [
    {
     "data": {
      "text/plain": [
       "VIEWING-DISTANCE"
      ]
     },
     "execution_count": 26,
     "metadata": {},
     "output_type": "execute_result"
    },
    {
     "data": {
      "text/plain": [
       "SCENIC-SCORE"
      ]
     },
     "execution_count": 26,
     "metadata": {},
     "output_type": "execute_result"
    },
    {
     "data": {
      "text/plain": [
       "374400"
      ]
     },
     "execution_count": 26,
     "metadata": {},
     "output_type": "execute_result"
    }
   ],
   "source": [
    ";; given a list of coordinates scan until tree viewing is blocked to calculate viewing distance\n",
    "(defun viewing-distance (coords tree-height tree-heights)\n",
    "    (let ((distance 0))\n",
    "        (loop for (i j) in coords\n",
    "              do (incf distance)\n",
    "              when (<= tree-height (aref tree-heights i j)) return distance\n",
    "              finally (return distance))))\n",
    "          \n",
    "(defun scenic-score (i j tree-heights)\n",
    "    (let ((th (aref tree-heights i j)))\n",
    "    ;; take the product of viewing distance in all directions\n",
    "    (*\n",
    "       ;; check to the north\n",
    "        (viewing-distance (loop for k from (1- i) downto 0 collect (list k j)) th tree-heights)\n",
    "        ;; check to the east\n",
    "        (viewing-distance (loop for k from (1+ j) to (1- num-cols) collect (list i k)) th tree-heights)\n",
    "        ;; check to the south\n",
    "        (viewing-distance (loop for k from (1+ i) to (1- num-rows) collect (list k j)) th tree-heights)\n",
    "        ;; check to the west\n",
    "        (viewing-distance (loop for k from (1- j) downto 0 collect (list i k)) th tree-heights)\n",
    "     )))\n",
    "\n",
    ";; (viewing-distance (loop for i from -1 downto 0 collect (list i 2)) 5 tree-heights)\n",
    ";; (scenic-score 3 2 tree-heights)\n",
    ";; nested loop with sum and count\n",
    "(loop for i from 0 to (1- num-rows)\n",
    "      maximize (loop for j from 0 to (1- num-cols) maximize (scenic-score i j tree-heights)))"
   ]
  },
  {
   "cell_type": "markdown",
   "id": "02f3d16e-6985-4e90-ad61-24df16f7465c",
   "metadata": {},
   "source": [
    "# Day 9"
   ]
  },
  {
   "cell_type": "markdown",
   "id": "ff54216e-e88e-4271-aa84-f06964bcdf77",
   "metadata": {},
   "source": [
    "## Part 1\n",
    "\n",
    "Number of positions visited by tail."
   ]
  },
  {
   "cell_type": "code",
   "execution_count": 27,
   "id": "d67d6ba3-39c2-4896-9c24-a9b4ae00568d",
   "metadata": {},
   "outputs": [
    {
     "data": {
      "text/plain": [
       "#<STANDARD-CLASS COMMON-LISP-USER::ROPE>"
      ]
     },
     "execution_count": 27,
     "metadata": {},
     "output_type": "execute_result"
    },
    {
     "data": {
      "text/plain": [
       "#<STANDARD-METHOD COMMON-LISP:PRINT-OBJECT (ROPE T) {7009F8AC43}>"
      ]
     },
     "execution_count": 27,
     "metadata": {},
     "output_type": "execute_result"
    },
    {
     "data": {
      "text/plain": [
       "#<STANDARD-METHOD COMMON-LISP-USER::MOVE-HEAD (ROPE STRING) {700A1A1203}>"
      ]
     },
     "execution_count": 27,
     "metadata": {},
     "output_type": "execute_result"
    },
    {
     "data": {
      "text/plain": [
       "#<STANDARD-METHOD COMMON-LISP-USER::HEAD-TAIL-DIFFERENCE-LR (ROPE) {700A20B8A3}>"
      ]
     },
     "execution_count": 27,
     "metadata": {},
     "output_type": "execute_result"
    },
    {
     "data": {
      "text/plain": [
       "#<STANDARD-METHOD COMMON-LISP-USER::HEAD-TAIL-DIFFERENCE-UD (ROPE) {700A294C23}>"
      ]
     },
     "execution_count": 27,
     "metadata": {},
     "output_type": "execute_result"
    },
    {
     "data": {
      "text/plain": [
       "#<STANDARD-METHOD COMMON-LISP-USER::MOVE-TAIL-LR (ROPE) {700A31A503}>"
      ]
     },
     "execution_count": 27,
     "metadata": {},
     "output_type": "execute_result"
    },
    {
     "data": {
      "text/plain": [
       "#<STANDARD-METHOD COMMON-LISP-USER::MOVE-TAIL-UD (ROPE) {700A3B7B63}>"
      ]
     },
     "execution_count": 27,
     "metadata": {},
     "output_type": "execute_result"
    },
    {
     "name": "stdout",
     "output_type": "stream",
     "text": [
      "SB-INT:SIMPLE-STYLE-WARNING: undefined function: COMMON-LISP-USER::HEAD-TAIL-DIFFERENCE-LR\n",
      "SB-INT:SIMPLE-STYLE-WARNING: undefined function: COMMON-LISP-USER::HEAD-TAIL-DIFFERENCE-UD\n",
      "SB-INT:SIMPLE-STYLE-WARNING: undefined function: COMMON-LISP-USER::MOVE-TAIL-LR\n",
      "SB-INT:SIMPLE-STYLE-WARNING: undefined function: COMMON-LISP-USER::MOVE-TAIL-UD\n"
     ]
    }
   ],
   "source": [
    "(defclass rope ()\n",
    "    ((head :initarg :head :initform '(0 0) :accessor head)\n",
    "     (tail :initarg :tail :initform '(0 0) :accessor tail)))\n",
    "\n",
    "(defmethod print-object ((obj rope) stream)\n",
    "  (print-unreadable-object (obj stream :type t)\n",
    "    (format stream \"head: ~a, tail: ~a\" (head obj) (tail obj))))\n",
    "\n",
    "(defmethod move-head ((r rope) (direction string))\n",
    "    ;; move the head\n",
    "    (cond\n",
    "        ((string= direction \"R\") (incf (first (head r))))\n",
    "        ((string= direction \"L\") (decf (first (head r))))\n",
    "        ((string= direction \"U\") (incf (second (head r))))\n",
    "        ((string= direction \"D\") (decf (second (head r))))\n",
    "        )\n",
    "    ;; have the tail follow\n",
    "    (cond\n",
    "        ;; two steps apart left/right\n",
    "        ((and (= (abs (head-tail-difference-lr r)) 2) (= (head-tail-difference-ud r) 0)) (move-tail-lr r))\n",
    "        ;; two steps apart up/down\n",
    "        ((and (= (head-tail-difference-lr r) 0) (= (abs (head-tail-difference-ud r)) 2)) (move-tail-ud r))\n",
    "\n",
    "        ;; need to move diagonal\n",
    "        ((= (+ (abs (head-tail-difference-lr r)) (abs (head-tail-difference-ud r))) 3) (move-tail-lr r) (move-tail-ud r)))\n",
    "    \n",
    "    )\n",
    "\n",
    ";; left/right distance from head to tail\n",
    "(defmethod head-tail-difference-lr ((r rope))\n",
    "    (- (first (head r)) (first (tail r))))\n",
    "\n",
    ";; up/down distance from head to tail\n",
    "(defmethod head-tail-difference-ud ((r rope))\n",
    "    (- (second (head r)) (second (tail r))))\n",
    "\n",
    ";; move tail 1 unit towards head in left/right direction\n",
    "(defmethod move-tail-lr ((r rope))\n",
    "    (incf (first (tail r)) (signum (head-tail-difference-lr r))))\n",
    "\n",
    ";; move tail 1 unit towards head in up/down direction\n",
    "(defmethod move-tail-ud ((r rope))\n",
    "    (incf (second (tail r)) (signum (head-tail-difference-ud r))))"
   ]
  },
  {
   "cell_type": "code",
   "execution_count": 28,
   "id": "4333d736-7caf-40f7-a5b3-ad056628e869",
   "metadata": {},
   "outputs": [
    {
     "data": {
      "text/plain": [
       "R"
      ]
     },
     "execution_count": 28,
     "metadata": {},
     "output_type": "execute_result"
    },
    {
     "data": {
      "text/plain": [
       "TAIL-VISITED"
      ]
     },
     "execution_count": 28,
     "metadata": {},
     "output_type": "execute_result"
    },
    {
     "data": {
      "text/plain": [
       "NIL"
      ]
     },
     "execution_count": 28,
     "metadata": {},
     "output_type": "execute_result"
    },
    {
     "data": {
      "text/plain": [
       "5874"
      ]
     },
     "execution_count": 28,
     "metadata": {},
     "output_type": "execute_result"
    }
   ],
   "source": [
    "(defparameter r (make-instance 'rope :head '(0 0) :tail '(0 0)))\n",
    "(defparameter tail-visited (list (list 0 0)))\n",
    "(loop for line in (uiop:read-file-lines \"input_day_9.txt\")\n",
    "      for direction = (subseq line 0 1)\n",
    "      for num-steps = (parse-integer line :start 2)\n",
    "      do (loop repeat num-steps do\n",
    "               (move-head r direction)\n",
    "               (pushnew (copy-list (tail r)) tail-visited :test #'equal)))\n",
    "(length tail-visited)"
   ]
  },
  {
   "cell_type": "markdown",
   "id": "3326d15a-7519-4d08-8946-34658538df17",
   "metadata": {},
   "source": [
    "## Part 2\n",
    "\n",
    "A rope with 10 knots"
   ]
  },
  {
   "cell_type": "code",
   "execution_count": 29,
   "id": "003b5401-10c6-4e8a-8af8-ba8f855a7781",
   "metadata": {},
   "outputs": [
    {
     "data": {
      "text/plain": [
       "#<STANDARD-CLASS COMMON-LISP-USER::ROPE>"
      ]
     },
     "execution_count": 29,
     "metadata": {},
     "output_type": "execute_result"
    },
    {
     "data": {
      "text/plain": [
       "#<STANDARD-METHOD COMMON-LISP:PRINT-OBJECT (ROPE T) {700529C053}>"
      ]
     },
     "execution_count": 29,
     "metadata": {},
     "output_type": "execute_result"
    },
    {
     "data": {
      "text/plain": [
       "#<STANDARD-METHOD COMMON-LISP-USER::MOVE-HEAD (ROPE STRING) {70054DCF83}>"
      ]
     },
     "execution_count": 29,
     "metadata": {},
     "output_type": "execute_result"
    },
    {
     "data": {
      "text/plain": [
       "#<STANDARD-METHOD COMMON-LISP-USER::HAVE-KNOT-FOLLOW (ROPE INTEGER) {7005606CB3}>"
      ]
     },
     "execution_count": 29,
     "metadata": {},
     "output_type": "execute_result"
    },
    {
     "data": {
      "text/plain": [
       "#<STANDARD-METHOD COMMON-LISP-USER::KNOT-DISTANCE-LR (ROPE INTEGER) {70056A5223}>"
      ]
     },
     "execution_count": 29,
     "metadata": {},
     "output_type": "execute_result"
    },
    {
     "data": {
      "text/plain": [
       "#<STANDARD-METHOD COMMON-LISP-USER::KNOT-DISTANCE-UD (ROPE INTEGER) {70057520F3}>"
      ]
     },
     "execution_count": 29,
     "metadata": {},
     "output_type": "execute_result"
    },
    {
     "data": {
      "text/plain": [
       "#<STANDARD-METHOD COMMON-LISP-USER::MOVE-KNOT-LR (ROPE INTEGER) {70057F5983}>"
      ]
     },
     "execution_count": 29,
     "metadata": {},
     "output_type": "execute_result"
    },
    {
     "data": {
      "text/plain": [
       "#<STANDARD-METHOD COMMON-LISP-USER::MOVE-KNOT-UD (ROPE INTEGER) {70058B0263}>"
      ]
     },
     "execution_count": 29,
     "metadata": {},
     "output_type": "execute_result"
    },
    {
     "name": "stdout",
     "output_type": "stream",
     "text": [
      "SB-KERNEL:REDEFINITION-WITH-DEFMETHOD: redefining PRINT-OBJECT (#<STANDARD-CLASS COMMON-LISP-USER::ROPE>\n",
      "                                                                #<SB-PCL:SYSTEM-CLASS COMMON-LISP:T>) in DEFMETHOD\n",
      "SB-INT:SIMPLE-STYLE-WARNING: undefined function: COMMON-LISP-USER::HAVE-KNOT-FOLLOW\n",
      "SB-KERNEL:REDEFINITION-WITH-DEFMETHOD: redefining MOVE-HEAD (#<STANDARD-CLASS COMMON-LISP-USER::ROPE>\n",
      "                                                             #<BUILT-IN-CLASS COMMON-LISP:STRING>) in DEFMETHOD\n",
      "SB-INT:SIMPLE-STYLE-WARNING: undefined function: COMMON-LISP-USER::KNOT-DISTANCE-LR\n",
      "SB-INT:SIMPLE-STYLE-WARNING: undefined function: COMMON-LISP-USER::KNOT-DISTANCE-UD\n",
      "SB-INT:SIMPLE-STYLE-WARNING: undefined function: COMMON-LISP-USER::MOVE-KNOT-LR\n",
      "SB-INT:SIMPLE-STYLE-WARNING: undefined function: COMMON-LISP-USER::MOVE-KNOT-UD\n"
     ]
    }
   ],
   "source": [
    "(defclass rope ()\n",
    "    ((knots :initarg :knots :accessor knots)))\n",
    "\n",
    "(defmethod print-object ((obj rope) stream)\n",
    "  (print-unreadable-object (obj stream :type t)\n",
    "    (format stream \"knots: ~a\" (knots obj) )))\n",
    "\n",
    "(defmethod move-head ((r rope) (direction string))\n",
    "    ;; move the first knot or head\n",
    "    (cond\n",
    "        ((string= direction \"R\") (incf (first (first (knots r)))))\n",
    "        ((string= direction \"L\") (decf (first (first (knots r)))))\n",
    "        ((string= direction \"U\") (incf (second (first (knots r)))))\n",
    "        ((string= direction \"D\") (decf (second (first (knots r)))))\n",
    "        )\n",
    "    ;; have the rest of the knots follow in order\n",
    "    (loop for knot from 1 to 9 do (have-knot-follow r knot))\n",
    "    )\n",
    "\n",
    ";; have a given knot follow the one ahead of it in the chain\n",
    "(defmethod have-knot-follow ((r rope) (knot integer))\n",
    "    (cond\n",
    "        ;; two steps apart left/right\n",
    "        ((and (= (abs (knot-distance-lr r knot)) 2) (= (knot-distance-ud r knot) 0)) (move-knot-lr r knot))\n",
    "        ;; two steps apart up/down\n",
    "        ((and (= (knot-distance-lr r knot) 0) (= (abs (knot-distance-ud r knot)) 2)) (move-knot-ud r knot))\n",
    "\n",
    "        ;; need to move diagonal\n",
    "        ((>= (+ (abs (knot-distance-lr r knot)) (abs (knot-distance-ud r knot))) 3) (move-knot-lr r knot) (move-knot-ud r knot))\n",
    "    ))\n",
    "\n",
    ";; left/right distance to next knot in the chain\n",
    "(defmethod knot-distance-lr ((r rope) (knot integer))\n",
    "    (- (first (nth (1- knot) (knots r))) (first (nth knot (knots r)))))\n",
    "\n",
    ";; up/down distance to next knot in the chain\n",
    "(defmethod knot-distance-ud ((r rope) (knot integer))\n",
    "    (- (second (nth (1- knot) (knots r))) (second (nth knot (knots r)))))\n",
    "\n",
    ";; move a knot one unit left/right towards next on in the chain\n",
    "(defmethod move-knot-lr ((r rope) (knot integer))\n",
    "    (incf (first (nth knot (knots r))) (signum (knot-distance-lr r knot))))\n",
    "\n",
    ";; move a knot one unit up/down towards next on in the chain\n",
    "(defmethod move-knot-ud ((r rope) (knot integer))\n",
    "    (incf (second (nth knot (knots r))) (signum (knot-distance-ud r knot))))\n"
   ]
  },
  {
   "cell_type": "code",
   "execution_count": 30,
   "id": "8dc5e6ca-efb4-4176-a320-3fc83b3eb5e7",
   "metadata": {},
   "outputs": [
    {
     "data": {
      "text/plain": [
       "R"
      ]
     },
     "execution_count": 30,
     "metadata": {},
     "output_type": "execute_result"
    },
    {
     "data": {
      "text/plain": [
       "TAIL-VISITED"
      ]
     },
     "execution_count": 30,
     "metadata": {},
     "output_type": "execute_result"
    },
    {
     "data": {
      "text/plain": [
       "NIL"
      ]
     },
     "execution_count": 30,
     "metadata": {},
     "output_type": "execute_result"
    },
    {
     "data": {
      "text/plain": [
       "2467"
      ]
     },
     "execution_count": 30,
     "metadata": {},
     "output_type": "execute_result"
    }
   ],
   "source": [
    "(defparameter r (make-instance 'rope :knots (loop repeat 10 collect (list 0 0))))\n",
    "(defparameter tail-visited (list (list 0 0)))\n",
    "(loop for line in (uiop:read-file-lines \"input_day_9.txt\")\n",
    "      for direction = (subseq line 0 1)\n",
    "      for num-steps = (parse-integer line :start 2)\n",
    "      do (loop repeat num-steps do\n",
    "               (move-head r direction)\n",
    "               (pushnew (copy-list (first (last (knots r)))) tail-visited :test #'equal)))\n",
    "(length tail-visited)"
   ]
  },
  {
   "cell_type": "markdown",
   "id": "6ca72241-c786-41a4-836a-1789840f83ee",
   "metadata": {},
   "source": [
    "# Day 10"
   ]
  },
  {
   "cell_type": "markdown",
   "id": "2423eefa-561d-4017-bb04-bb9665e8f7a3",
   "metadata": {},
   "source": [
    "## Part 1\n",
    "\n",
    "Keep track of register values and calculate signal strength."
   ]
  },
  {
   "cell_type": "code",
   "execution_count": 31,
   "id": "5187ea43-fcc1-4302-a1df-0ef9f3b50499",
   "metadata": {},
   "outputs": [
    {
     "name": "stdout",
     "output_type": "stream",
     "text": [
      "To load \"cl-ppcre\":\n",
      "  Load 1 ASDF system:\n",
      "    cl-ppcre\n"
     ]
    },
    {
     "data": {
      "text/plain": [
       "(\"cl-ppcre\")"
      ]
     },
     "execution_count": 31,
     "metadata": {},
     "output_type": "execute_result"
    },
    {
     "name": "stdout",
     "output_type": "stream",
     "text": [
      "; Loading \"cl-ppcre\"\n",
      "\n"
     ]
    }
   ],
   "source": [
    "(ql:quickload \"cl-ppcre\")"
   ]
  },
  {
   "cell_type": "code",
   "execution_count": 32,
   "id": "0494cf5e-bbcb-40aa-957d-abcb9e80e682",
   "metadata": {},
   "outputs": [
    {
     "data": {
      "text/plain": [
       "REGISTER-VALUES"
      ]
     },
     "execution_count": 32,
     "metadata": {},
     "output_type": "execute_result"
    },
    {
     "data": {
      "text/plain": [
       "X"
      ]
     },
     "execution_count": 32,
     "metadata": {},
     "output_type": "execute_result"
    },
    {
     "data": {
      "text/plain": [
       "NIL"
      ]
     },
     "execution_count": 32,
     "metadata": {},
     "output_type": "execute_result"
    },
    {
     "data": {
      "text/plain": [
       "(1 1 1 1 6 6 27 27 11 11 11 12 12 12 12 16 16 17 17 21 21 22 22 22 26 26 17 17\n",
       " 17 36 36 31 31 31 31 36 36 37 37 -1 -1 4 4 2 2 4 4 4 4 11 11 20 20 40 40 37 37\n",
       " 19 19 21 21 26 26 26 26 24 24 24 24 31 31 34 34 32 32 34 34 6 6 -1 -1 4 4 4 6\n",
       " 6 38 38 11 11 11 11 11 11 11 18 18 18 40 40 21 21 21 26 26 26 19 19 36 36 29\n",
       " 29 29 9 9 36 36 36 20 20 0 0 1 1 1 4 4 19 19 11 11 9 9 3 3 17 17 21 21 21 21 4\n",
       " 4 26 26 26 31 31 31 31 31 33 33 33 36 36 4 4 -1 -1 -1 3 3 6 6 4 4 38 38 11 11\n",
       " 16 16 32 32 14 14 21 21 21 19 19 18 18 26 26 40 40 31 31 31 16 16 32 32 34 34\n",
       " -1 -1 -1 -1 -1 -1 2 2 6 6 6 7 7 11 11 12 12 12 16 16 18 18 21 21 16 16 35 35\n",
       " 26 26 28 28 32 32 32 32 32 32 35 35 37 37 37)"
      ]
     },
     "execution_count": 32,
     "metadata": {},
     "output_type": "execute_result"
    },
    {
     "data": {
      "text/plain": [
       "17020"
      ]
     },
     "execution_count": 32,
     "metadata": {},
     "output_type": "execute_result"
    }
   ],
   "source": [
    "(defparameter register-values nil)\n",
    "(defparameter X 1)\n",
    "(loop for line in (uiop:read-file-lines \"input_day_10.txt\")\n",
    "      do\n",
    "      (cond\n",
    "          ;; single clock cycle delay\n",
    "          ((string= line \"noop\") (push X register-values))\n",
    "          ;; two clock delay and update register\n",
    "          ((ppcre:register-groups-bind ((#'parse-integer to-add)) (\"addx (-?\\\\d+)\" line) (loop repeat 2 do (push X register-values)) (incf X to-add)))\n",
    "      ))\n",
    "(setf register-values (reverse register-values))\n",
    "(loop for cycle in '(20 60 100 140 180 220)\n",
    "      sum (* cycle (nth (1- cycle) register-values)))"
   ]
  },
  {
   "cell_type": "code",
   "execution_count": 33,
   "id": "a39cf45c-8e8a-44ca-9327-e81ac2aafc99",
   "metadata": {},
   "outputs": [
    {
     "data": {
      "text/plain": [
       "NIL"
      ]
     },
     "execution_count": 33,
     "metadata": {},
     "output_type": "execute_result"
    },
    {
     "name": "stdout",
     "output_type": "stream",
     "text": [
      "###..#....####.####.####.#.....##..####.\n",
      "#..#.#....#.......#.#....#....#..#.#....\n",
      "#..#.#....###....#..###..#....#....###..\n",
      "###..#....#.....#...#....#....#.##.#....\n",
      "#.#..#....#....#....#....#....#..#.#....\n",
      "#..#.####.####.####.#....####..###.####."
     ]
    }
   ],
   "source": [
    "(loop for sprite-offset in register-values\n",
    "      for pixel from 0\n",
    "      for h-offset = (mod pixel 40)\n",
    "      do \n",
    "      (when (= h-offset 0) (format t \"~&\"))\n",
    "      (format t (if (<= (abs (- sprite-offset h-offset)) 1) \"#\" \".\")))"
   ]
  },
  {
   "cell_type": "markdown",
   "id": "c4882516-5d89-45b5-91b4-b5f9569511e6",
   "metadata": {},
   "source": [
    "# Day 11"
   ]
  },
  {
   "cell_type": "markdown",
   "id": "21491016-c381-4fdb-a17d-e48d1c76373e",
   "metadata": {},
   "source": [
    "## Part 1 and 2\n",
    "\n",
    "Count the total number of times each monkey inspects items over 20/10,000 rounds."
   ]
  },
  {
   "cell_type": "code",
   "execution_count": 34,
   "id": "e0a29686-ddab-4f0b-be74-0c8b4c09e6b8",
   "metadata": {},
   "outputs": [
    {
     "data": {
      "text/plain": [
       "#<STANDARD-CLASS COMMON-LISP-USER::MONKEY>"
      ]
     },
     "execution_count": 34,
     "metadata": {},
     "output_type": "execute_result"
    },
    {
     "data": {
      "text/plain": [
       "#<STANDARD-METHOD COMMON-LISP:PRINT-OBJECT (MONKEY T) {7005FCEFA3}>"
      ]
     },
     "execution_count": 34,
     "metadata": {},
     "output_type": "execute_result"
    }
   ],
   "source": [
    "(defclass monkey ()\n",
    "    ((items :initarg :items :accessor items)\n",
    "     (operation :initarg :operation :accessor operation)\n",
    "     (test :initarg :test :accessor test)\n",
    "     (num-inspected :accessor num-inspected :initform 0)))\n",
    "\n",
    "(defmethod print-object ((obj monkey) stream)\n",
    "  (print-unreadable-object (obj stream :type t)\n",
    "    (format stream \"items: ~a\" (items obj) )))"
   ]
  },
  {
   "cell_type": "code",
   "execution_count": 35,
   "id": "5262f854-c1e1-4f20-96e3-04a7f393fd69",
   "metadata": {},
   "outputs": [
    {
     "data": {
      "text/plain": [
       "CREATE-TEST-FUNCTION"
      ]
     },
     "execution_count": 35,
     "metadata": {},
     "output_type": "execute_result"
    },
    {
     "data": {
      "text/plain": [
       "MONKEYS"
      ]
     },
     "execution_count": 35,
     "metadata": {},
     "output_type": "execute_result"
    },
    {
     "data": {
      "text/plain": [
       "NIL"
      ]
     },
     "execution_count": 35,
     "metadata": {},
     "output_type": "execute_result"
    },
    {
     "data": {
      "text/plain": [
       "28244037010"
      ]
     },
     "execution_count": 35,
     "metadata": {},
     "output_type": "execute_result"
    }
   ],
   "source": [
    ";; for fun write a macro that creates the test function given what we're checking divisible against and which \n",
    ";; monkey we throw to if-true or if-false \n",
    "(defmacro create-test-function (mod-test if-true if-false)\n",
    "    (list 'lambda (list 'x) (list 'if (list '= (list 'mod 'x mod-test) 0) if-true if-false)))\n",
    "\n",
    ";; test monkeys\n",
    "\n",
    ";; (defparameter monkeys (list\n",
    ";;     (make-instance 'monkey\n",
    ";;                    :items (list 79 98)\n",
    ";;                    :operation (lambda (x) (* 19 x))\n",
    ";;                    :test (create-test-function 23 2 3))\n",
    ";;     (make-instance 'monkey\n",
    ";;                    :items (list 54 65 75 74)\n",
    ";;                    :operation (lambda (x) (+ 6 x))\n",
    ";;                    :test (create-test-function 19 2 0))\n",
    ";;     (make-instance 'monkey\n",
    ";;                    :items (list 79 60 97)\n",
    ";;                    :operation (lambda (x) (* x x))\n",
    ";;                    :test (create-test-function 13 1 3))\n",
    ";;     (make-instance 'monkey\n",
    ";;                    :items (list 74)\n",
    ";;                    :operation (lambda (x) (+ 3 x))\n",
    ";;                    :test (create-test-function 17 0 1))\n",
    ";;                        ))\n",
    "\n",
    "\n",
    ";; not worth writing parsing code for eight monkeys\n",
    "\n",
    "\n",
    "(defparameter monkeys (list\n",
    "    (make-instance 'monkey\n",
    "                   :items (list 57)\n",
    "                   :operation (lambda (x) (* 13 x))\n",
    "                   :test (create-test-function 11 3 2))\n",
    "    (make-instance 'monkey\n",
    "                   :items (list 58 93 88 81 72 73 65)\n",
    "                   :operation (lambda (x) (+ 2 x))\n",
    "                   :test (create-test-function 7 6 7))\n",
    "    (make-instance 'monkey\n",
    "                   :items (list 65 95)\n",
    "                   :operation (lambda (x) (+ 6 x))\n",
    "                   :test (create-test-function 13 3 5))\n",
    "    (make-instance 'monkey\n",
    "                   :items (list 58 80 81 83)\n",
    "                   :operation (lambda (x) (* x x))\n",
    "                   :test (create-test-function 5 4 5))\n",
    "    (make-instance 'monkey\n",
    "                   :items (list 58 89 90 96 55)\n",
    "                   :operation (lambda (x) (+ 3 x))\n",
    "                   :test (create-test-function 3 1 7))\n",
    "    (make-instance 'monkey\n",
    "                   :items (list 66 73 87 58 62 67)\n",
    "                   :operation (lambda (x) (* 7 x))\n",
    "                   :test (create-test-function 17 4 1))\n",
    "    (make-instance 'monkey\n",
    "                   :items (list 85 55 89)\n",
    "                   :operation (lambda (x) (+ 4 x))\n",
    "                   :test (create-test-function 2 2 0))\n",
    "    (make-instance 'monkey\n",
    "                   :items (list 73 80 54 94 90 52 69 58)\n",
    "                   :operation (lambda (x) (+ 7 x))\n",
    "                   :test (create-test-function 19 6 0))\n",
    "))                   \n",
    "                                   \n",
    "(loop repeat 10000 do\n",
    "(loop for m in monkeys\n",
    "    do (loop while (items m)\n",
    "        do (let ((i (pop (items m))))\n",
    "                ;; bump the inspection count\n",
    "                (incf (num-inspected m))\n",
    "                ;; operate on worry level\n",
    "                (setf i (funcall (operation m) i))\n",
    "                ;; monkey gets bored\n",
    "                ;; comment/uncomment for part1 vs part 2\n",
    "                ;; (setf i (values (floor i 3)))\n",
    "                ;; for part 2 let's keep worry levels sane sized integers by working mod the product of all the test integers\n",
    "                (setf i (mod i (* 11 7 13 5 3 17 2 19)))\n",
    "                ;; send to next monkey's item list\n",
    "                ;; task noted the item gets put on the *end* of the queue but in this part\n",
    "                ;; at least order doesn't matter since the items do not influence each other\n",
    "                (push i (items (nth (funcall (test m) i) monkeys)))                \n",
    "                ))))\n",
    "\n",
    "(let ((sorted-inspection-counts (sort (loop for m in monkeys collect (num-inspected m)) #'>)))\n",
    "     (* (first sorted-inspection-counts) (second sorted-inspection-counts))\n",
    "     )\n",
    ";; (loop for m in monkeys collect (num-inspected m))"
   ]
  },
  {
   "cell_type": "markdown",
   "id": "54c7f85c-c6e6-4139-99d7-0732f3a8b365",
   "metadata": {},
   "source": [
    "# Day 12"
   ]
  },
  {
   "cell_type": "markdown",
   "id": "610daf71-cc72-4c63-81a6-44a4256803f9",
   "metadata": {},
   "source": [
    "## Part 1\n",
    "\n",
    "Shortest path from a to z. Let's make each square a node in a graph and use Dijkstra's shortest path algorithm. "
   ]
  },
  {
   "cell_type": "code",
   "execution_count": 36,
   "id": "1e9531e6-2b22-4a57-8e9a-a2bda35033fc",
   "metadata": {},
   "outputs": [
    {
     "data": {
      "text/plain": [
       "#<STANDARD-CLASS COMMON-LISP-USER::SQUARE>"
      ]
     },
     "execution_count": 36,
     "metadata": {},
     "output_type": "execute_result"
    }
   ],
   "source": [
    "(defclass square ()\n",
    "    ((height :initform 0 :accessor height)\n",
    "     (possible-steps :initform nil :accessor possible-steps)\n",
    "     (visited :initform nil :accessor visited)\n",
    "     (distance :initform most-positive-fixnum :accessor distance)))"
   ]
  },
  {
   "cell_type": "code",
   "execution_count": 37,
   "id": "f651f597-a10f-4016-8a32-d589646a8c08",
   "metadata": {},
   "outputs": [
    {
     "data": {
      "text/plain": [
       "INPUT-DAY-12"
      ]
     },
     "execution_count": 37,
     "metadata": {},
     "output_type": "execute_result"
    },
    {
     "data": {
      "text/plain": [
       "NUM-ROWS"
      ]
     },
     "execution_count": 37,
     "metadata": {},
     "output_type": "execute_result"
    },
    {
     "data": {
      "text/plain": [
       "NUM-COLS"
      ]
     },
     "execution_count": 37,
     "metadata": {},
     "output_type": "execute_result"
    },
    {
     "data": {
      "text/plain": [
       "START"
      ]
     },
     "execution_count": 37,
     "metadata": {},
     "output_type": "execute_result"
    },
    {
     "data": {
      "text/plain": [
       "END"
      ]
     },
     "execution_count": 37,
     "metadata": {},
     "output_type": "execute_result"
    },
    {
     "data": {
      "text/plain": [
       "HEIGHTMAP"
      ]
     },
     "execution_count": 37,
     "metadata": {},
     "output_type": "execute_result"
    },
    {
     "data": {
      "text/plain": [
       "NIL"
      ]
     },
     "execution_count": 37,
     "metadata": {},
     "output_type": "execute_result"
    },
    {
     "data": {
      "text/plain": [
       "NIL"
      ]
     },
     "execution_count": 37,
     "metadata": {},
     "output_type": "execute_result"
    }
   ],
   "source": [
    ";; read the input into a 2D array of squares\n",
    "(defparameter input-day-12 (uiop:read-file-lines \"input_day_12.txt\"))\n",
    "(defparameter num-rows (length input-day-12))\n",
    "(defparameter num-cols (length (first input-day-12)))\n",
    "(defparameter start nil)\n",
    "(defparameter end nil)\n",
    "(defparameter heightmap (make-array (list num-rows num-cols) :initial-element nil))\n",
    "(dotimes (i num-rows)\n",
    "    (dotimes (j num-cols)\n",
    "        (setf (aref heightmap i j) (make-instance 'square))\n",
    "        (setf (height (aref heightmap i j)) 3)\n",
    "        ;; check for the start\n",
    "        (when (char= (char (nth i input-day-12) j) #\\S) (setf start (aref heightmap i j)) (setf (aref (nth i input-day-12) j) #\\a))\n",
    "        ;; check for the end\n",
    "        (when (char= (char (nth i input-day-12) j) #\\E) (setf end (aref heightmap i j)) (setf (aref (nth i input-day-12) j) #\\z))\n",
    "        ;; set the height using char codes for a-z start at 97\n",
    "        (setf (height (aref heightmap i j)) (- (char-code (char (nth i input-day-12) j)) 97))\n",
    "        ))\n",
    "\n",
    ";; find the adjacent nodes that we can step to for all squares\n",
    "(dotimes (i num-rows)\n",
    "    (dotimes (j num-cols)\n",
    "        (let ((cur-square (aref heightmap i j)))\n",
    "        (when (and (> i 0) (<= (height (aref heightmap (1- i) j)) (1+ (height cur-square))))\n",
    "            (push (aref heightmap (1- i) j) (possible-steps cur-square)))\n",
    "        ;; check down \n",
    "        (when (and (< i (1- num-rows)) (<= (height (aref heightmap (1+ i) j)) (1+ (height cur-square))))\n",
    "            (push (aref heightmap (1+ i) j) (possible-steps cur-square)))        \n",
    "        ;; check left\n",
    "        (when (and (> j 0) (<= (height (aref heightmap i (1- j))) (1+ (height cur-square))))\n",
    "            (push (aref heightmap i (1- j)) (possible-steps cur-square)))        \n",
    "        ;; check right\n",
    "        (when (and (< j (1- num-cols)) (<= (height (aref heightmap i (1+ j))) (1+ (height cur-square))))\n",
    "            (push (aref heightmap i (1+ j)) (possible-steps cur-square)))        \n",
    "        )))"
   ]
  },
  {
   "cell_type": "code",
   "execution_count": 38,
   "id": "04ae3e5f-f8d7-4b67-9b92-1d20eedac2f2",
   "metadata": {},
   "outputs": [
    {
     "data": {
      "text/plain": [
       "NIL"
      ]
     },
     "execution_count": 38,
     "metadata": {},
     "output_type": "execute_result"
    }
   ],
   "source": [
    ";; Dijkstra's algorithm\n",
    ";; collect all the squares\n",
    "(let ((q (loop for i below (array-total-size heightmap) collect (row-major-aref heightmap i))))\n",
    "\n",
    ";; set the source distance to zero\n",
    "(setf (distance start) 0)\n",
    "\n",
    "(loop while q do\n",
    "    ;; find the smallest distance by expensively sorting the whole list\n",
    "    (setf q (sort q #'< :key (lambda (s) (distance s))))\n",
    "    (let ((u (pop q)))\n",
    "         ;; could do some early stopping if q == end\n",
    "         (loop for n in (possible-steps u) do\n",
    "               (let ((alt-dist (1+ (distance u)))) (when (and (not (visited n)) (< alt-dist (distance n))) (setf (distance n) alt-dist))))\n",
    "         \n",
    "         ;; mark visited\n",
    "         (setf (visited u) t)\n",
    "         ))    \n",
    ")"
   ]
  },
  {
   "cell_type": "code",
   "execution_count": 39,
   "id": "7c7c9768-69fb-4734-b81b-3385f831d658",
   "metadata": {},
   "outputs": [
    {
     "data": {
      "text/plain": [
       "420"
      ]
     },
     "execution_count": 39,
     "metadata": {},
     "output_type": "execute_result"
    }
   ],
   "source": [
    "(distance end)"
   ]
  },
  {
   "cell_type": "markdown",
   "id": "1877f67d-5804-4eb5-a45f-879eddbde9f0",
   "metadata": {},
   "source": [
    "## Part 2\n",
    "\n",
    "Fewest steps from any square a. We can invert the start and end and calculate the shortest distance from E to all squares. Then just filter on square == a and minimize. "
   ]
  },
  {
   "cell_type": "code",
   "execution_count": 40,
   "id": "de4476b9-0f77-44e0-82e1-92528206ada9",
   "metadata": {},
   "outputs": [
    {
     "data": {
      "text/plain": [
       "INPUT-DAY-12"
      ]
     },
     "execution_count": 40,
     "metadata": {},
     "output_type": "execute_result"
    },
    {
     "data": {
      "text/plain": [
       "NUM-ROWS"
      ]
     },
     "execution_count": 40,
     "metadata": {},
     "output_type": "execute_result"
    },
    {
     "data": {
      "text/plain": [
       "NUM-COLS"
      ]
     },
     "execution_count": 40,
     "metadata": {},
     "output_type": "execute_result"
    },
    {
     "data": {
      "text/plain": [
       "START"
      ]
     },
     "execution_count": 40,
     "metadata": {},
     "output_type": "execute_result"
    },
    {
     "data": {
      "text/plain": [
       "END"
      ]
     },
     "execution_count": 40,
     "metadata": {},
     "output_type": "execute_result"
    },
    {
     "data": {
      "text/plain": [
       "HEIGHTMAP"
      ]
     },
     "execution_count": 40,
     "metadata": {},
     "output_type": "execute_result"
    },
    {
     "data": {
      "text/plain": [
       "NIL"
      ]
     },
     "execution_count": 40,
     "metadata": {},
     "output_type": "execute_result"
    },
    {
     "data": {
      "text/plain": [
       "NIL"
      ]
     },
     "execution_count": 40,
     "metadata": {},
     "output_type": "execute_result"
    }
   ],
   "source": [
    ";; read the input into a 2D array of squares\n",
    "(defparameter input-day-12 (uiop:read-file-lines \"input_day_12.txt\"))\n",
    "(defparameter num-rows (length input-day-12))\n",
    "(defparameter num-cols (length (first input-day-12)))(defparameter start nil)\n",
    "(defparameter end nil)\n",
    "(defparameter heightmap (make-array (list num-rows num-cols) :initial-element nil))\n",
    "(dotimes (i num-rows)\n",
    "    (dotimes (j num-cols)\n",
    "        (setf (aref heightmap i j) (make-instance 'square))\n",
    "        (setf (height (aref heightmap i j)) 3)\n",
    "        ;; check for the start\n",
    "        (when (char= (char (nth i input-day-12) j) #\\S) (setf start (aref heightmap i j)) (setf (aref (nth i input-day-12) j) #\\a))\n",
    "        ;; check for the end\n",
    "        (when (char= (char (nth i input-day-12) j) #\\E) (setf end (aref heightmap i j)) (setf (aref (nth i input-day-12) j) #\\z))\n",
    "        ;; set the height using char codes for a-z start at 97\n",
    "        (setf (height (aref heightmap i j)) (- (char-code (char (nth i input-day-12) j)) 97))\n",
    "        ))\n",
    "\n",
    ";; find the adjacent nodes that we can step to for all squares\n",
    ";; since we are going backwards from the end here we can go to anything higher than 1- current height\n",
    "(dotimes (i num-rows)\n",
    "    (dotimes (j num-cols)\n",
    "        (let ((cur-square (aref heightmap i j)))\n",
    "        (when (and (> i 0) (>= (height (aref heightmap (1- i) j)) (1- (height cur-square))))\n",
    "            (push (aref heightmap (1- i) j) (possible-steps cur-square)))\n",
    "        ;; check down \n",
    "        (when (and (< i (1- num-rows)) (>= (height (aref heightmap (1+ i) j)) (1- (height cur-square))))\n",
    "            (push (aref heightmap (1+ i) j) (possible-steps cur-square)))        \n",
    "        ;; check left\n",
    "        (when (and (> j 0) (>= (height (aref heightmap i (1- j))) (1- (height cur-square))))\n",
    "            (push (aref heightmap i (1- j)) (possible-steps cur-square)))        \n",
    "        ;; check right\n",
    "        (when (and (< j (1- num-cols)) (>= (height (aref heightmap i (1+ j))) (1- (height cur-square))))\n",
    "            (push (aref heightmap i (1+ j)) (possible-steps cur-square)))        \n",
    "        )))"
   ]
  },
  {
   "cell_type": "code",
   "execution_count": 41,
   "id": "b7a40584-100a-4865-95db-6d796103fe6d",
   "metadata": {},
   "outputs": [
    {
     "data": {
      "text/plain": [
       "NIL"
      ]
     },
     "execution_count": 41,
     "metadata": {},
     "output_type": "execute_result"
    },
    {
     "data": {
      "text/plain": [
       "414"
      ]
     },
     "execution_count": 41,
     "metadata": {},
     "output_type": "execute_result"
    }
   ],
   "source": [
    ";; Dijkstra's algorithm\n",
    ";; collect all the squares\n",
    "(let ((q (loop for i below (array-total-size heightmap) collect (row-major-aref heightmap i))))\n",
    "\n",
    ";; set the end distance to zero\n",
    "(setf (distance end) 0)\n",
    "\n",
    "(loop while q do\n",
    "    ;; find the smallest distance by expensively sorting the whole list\n",
    "    (setf q (sort q #'< :key (lambda (s) (distance s))))\n",
    "    (let ((u (pop q)))\n",
    "         (loop for n in (possible-steps u) do\n",
    "               (let ((alt-dist (1+ (distance u)))) (when (and (not (visited n)) (< alt-dist (distance n))) (setf (distance n) alt-dist))))\n",
    "         \n",
    "         ;; mark visited\n",
    "         (setf (visited u) t)\n",
    "         ))    \n",
    ")\n",
    "\n",
    ";; now minimize distance over \"a\" squares\n",
    "(loop for s in (loop for i below num-rows\n",
    "      nconcing (loop for j below num-cols if (char= (char (nth i input-day-12) j) #\\a) collect (aref heightmap i j)))\n",
    "      minimize (distance s))"
   ]
  },
  {
   "cell_type": "markdown",
   "id": "3aa91615-cdca-4449-b90e-a77cdc5f6de7",
   "metadata": {},
   "source": [
    "# Day 13\n",
    "            "
   ]
  },
  {
   "cell_type": "markdown",
   "id": "737d10dd-120d-422b-922f-326e23f46899",
   "metadata": {},
   "source": [
    "## Part 1\n",
    "\n",
    "Identify pairs of packets in the right order"
   ]
  },
  {
   "cell_type": "code",
   "execution_count": 42,
   "id": "21f903c4-b698-437a-9d76-3493af661186",
   "metadata": {},
   "outputs": [
    {
     "data": {
      "text/plain": [
       "INPUT-DAY-13"
      ]
     },
     "execution_count": 42,
     "metadata": {},
     "output_type": "execute_result"
    }
   ],
   "source": [
    "(defparameter input-day-13 (uiop:read-file-lines \"input_day_13.txt\"))"
   ]
  },
  {
   "cell_type": "code",
   "execution_count": 43,
   "id": "0094313f-7747-4407-b4fd-8b11a55220b2",
   "metadata": {},
   "outputs": [
    {
     "data": {
      "text/plain": [
       "PARSE-PACKET"
      ]
     },
     "execution_count": 43,
     "metadata": {},
     "output_type": "execute_result"
    }
   ],
   "source": [
    ";; helper function to turn Python like list of lists packet strings into lisp lists of lists\n",
    "(defun parse-packet (str)\n",
    "    ;; replace [] with () and \",\" with \" \" then evaluate\n",
    "    (read-from-string (substitute #\\  #\\, (substitute #\\) #\\] (substitute #\\( #\\[ str)))))"
   ]
  },
  {
   "cell_type": "code",
   "execution_count": 44,
   "id": "98629906-fa57-42c6-b0db-0ca0063b1f08",
   "metadata": {},
   "outputs": [
    {
     "data": {
      "text/plain": [
       "CHECK-PACKET-ORDER"
      ]
     },
     "execution_count": 44,
     "metadata": {},
     "output_type": "execute_result"
    }
   ],
   "source": [
    "(defun check-packet-order (left right)\n",
    "    (loop for l in left\n",
    "          for r in right\n",
    "          do (cond\n",
    "                 ;; compare non-equal two integers by value\n",
    "                 ((and (typep l 'integer) (typep r 'integer))\n",
    "                      (when (< l r) (return :in-order))\n",
    "                      (when (> l r) (return :out-of-order)))\n",
    "                 ;; promote integer and list to two lists\n",
    "                 ((and (typep l 'integer) (typep r 'list))\n",
    "                      (let ((order (check-packet-order (list l) r))) (when order (return order))))\n",
    "                 ((and (typep l 'list) (typep r 'integer))\n",
    "                      (let ((order (check-packet-order l (list r)))) (when order (return order))))\n",
    "                 ;; recurse into comparing two lists\n",
    "                 ((and (typep l 'list) (typep r 'list))\n",
    "                      (let ((order (check-packet-order l r))) (when order (return order))))\n",
    "                 )\n",
    "          ;; if we get to the end and one list is shorter than the other\n",
    "          finally (return (cond\n",
    "            ((< (length left) (length right)) :in-order)\n",
    "            ((> (length left) (length right)) :out-of-order)) \n",
    "          ))\n",
    "    )"
   ]
  },
  {
   "cell_type": "code",
   "execution_count": 45,
   "id": "06c4ef2d-66cb-42e3-982c-7544ac77a00a",
   "metadata": {},
   "outputs": [
    {
     "data": {
      "text/plain": [
       "5330"
      ]
     },
     "execution_count": 45,
     "metadata": {},
     "output_type": "execute_result"
    }
   ],
   "source": [
    "(loop for pair below (ceiling (length input-day-13) 3)\n",
    "      for idx from 1\n",
    "      when (string= (check-packet-order (parse-packet (nth (* pair 3) input-day-13)) (parse-packet (nth (1+ (* pair 3)) input-day-13))) :in-order)\n",
    "      sum idx)"
   ]
  },
  {
   "cell_type": "markdown",
   "id": "4278cb07-c33e-4fa8-b4c9-ffc18c74773b",
   "metadata": {},
   "source": [
    "## Part 2\n",
    "\n",
    "Sort packets with additional divider packets"
   ]
  },
  {
   "cell_type": "code",
   "execution_count": 46,
   "id": "380aed6c-f7cf-4465-96f7-747f026ce417",
   "metadata": {},
   "outputs": [
    {
     "data": {
      "text/plain": [
       "27648"
      ]
     },
     "execution_count": 46,
     "metadata": {},
     "output_type": "execute_result"
    }
   ],
   "source": [
    "(let \n",
    "     ;; read in all the non-empty lines into a list of packets\n",
    "     ((packets (loop for line in (uiop:read-file-lines \"input_day_13.txt\") if (not (string= line \"\")) collect (parse-packet line)))\n",
    "      ;; define the divider packets so we can look for them later\n",
    "      (divider-packet-a (list (list 2)))\n",
    "      (divider-packet-b (list (list 6))))\n",
    "     ;; push on the divider packets\n",
    "     (push divider-packet-a packets)\n",
    "     (push divider-packet-b packets)\n",
    "     ;; sort the packets\n",
    "     (let ((sorted-packets (sort packets (lambda (l r) (string= (check-packet-order l r) :in-order)))))\n",
    "        ;; find the index of the divider packets and multiply together\n",
    "        (* (1+ (position divider-packet-a sorted-packets)) (1+ (position divider-packet-b sorted-packets)))))\n"
   ]
  },
  {
   "cell_type": "code",
   "execution_count": null,
   "id": "67a531c9-4f9f-4e4b-8d09-04037c2f1b8d",
   "metadata": {},
   "outputs": [],
   "source": []
  }
 ],
 "metadata": {
  "kernelspec": {
   "display_name": "Common Lisp",
   "language": "common-lisp",
   "name": "common-lisp"
  },
  "language_info": {
   "codemirror_mode": "text/x-common-lisp",
   "file_extension": ".lisp",
   "mimetype": "text/x-common-lisp",
   "name": "common-lisp",
   "pygments_lexer": "common-lisp",
   "version": "2.2.11"
  }
 },
 "nbformat": 4,
 "nbformat_minor": 5
}
