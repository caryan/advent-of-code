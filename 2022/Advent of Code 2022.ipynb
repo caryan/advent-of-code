{
 "cells": [
  {
   "cell_type": "markdown",
   "id": "2a59feab-9278-4311-9e6f-0bd67797cd48",
   "metadata": {},
   "source": [
    "# Day 1"
   ]
  },
  {
   "cell_type": "markdown",
   "id": "a1f052f9-7fd5-4d85-8304-d4ec0297ca45",
   "metadata": {},
   "source": [
    "## Part 1\n",
    "Figure out the most calories carried by any elf."
   ]
  },
  {
   "cell_type": "code",
   "execution_count": null,
   "id": "88a6fb9c-2aad-44c4-96fb-61950819a9ae",
   "metadata": {},
   "outputs": [],
   "source": [
    "; TODO stream process line by by line rather than read in the entire file into memory\n",
    "(let ((lines (uiop:read-file-lines \"input_day1.txt\"))\n",
    "      ; temporary accumulator for each elfs calories\n",
    "      (cal_ct 0)\n",
    "      ; variable to track the maximum calories per elf\n",
    "      (max_cal 0))\n",
    "    (dolist (line lines)\n",
    "        ; elves are demarcated by empty lines\n",
    "        (if (string= \"\" line)\n",
    "            (progn (when (> cal_ct max_cal) (setq max_cal cal_ct)) (setq cal_ct 0))\n",
    "            (incf cal_ct (parse-integer line))\n",
    "        )\n",
    "    )\n",
    " ; return the maximum number of calories found on an elf\n",
    " max_cal)\n",
    "    "
   ]
  },
  {
   "cell_type": "markdown",
   "id": "8d7fc65f-d672-4d8c-87ab-68a9859a4433",
   "metadata": {},
   "source": [
    "## Part 2\n",
    "\n",
    "Find the sum of the calories for the top 3 elves. "
   ]
  },
  {
   "cell_type": "code",
   "execution_count": null,
   "id": "6d3ccb9c-15eb-49ef-bd1b-f31f509f0bcd",
   "metadata": {},
   "outputs": [],
   "source": [
    "(let (\n",
    "      (lines (uiop:read-file-lines \"input_day1.txt\"))\n",
    "      (cal_ct 0)\n",
    "      (calories nil))\n",
    "    (dolist (line lines)\n",
    "        (if (string= \"\" line)\n",
    "            (progn (push cal_ct calories) (setq cal_ct 0))\n",
    "            (progn (incf cal_ct (parse-integer line)))\n",
    "        )\n",
    "    )\n",
    "    (let ((sorted (sort calories #'>)))\n",
    "         (+ (first sorted) (second sorted) (third sorted)))\n",
    ")\n"
   ]
  },
  {
   "cell_type": "markdown",
   "id": "f30addbd-8e3c-49af-97a3-9726f0e6b4cf",
   "metadata": {},
   "source": [
    "# Day 2"
   ]
  },
  {
   "cell_type": "markdown",
   "id": "1b498ede-387d-48e7-9711-4dc781cb2f67",
   "metadata": {},
   "source": [
    "## Part 1\n",
    "\n",
    "Score games of rock-paper-scissors. We'll try first with a brute force if-else chain."
   ]
  },
  {
   "cell_type": "code",
   "execution_count": null,
   "id": "ad1d36ab-0ff1-4958-ac60-87d884759740",
   "metadata": {},
   "outputs": [],
   "source": [
    "(defun score_selected_shape (b)\n",
    "     (if (string= b \"X\")\n",
    "         ; 1 point for playing rock\n",
    "         1\n",
    "         (if (string= b \"Y\")\n",
    "             ; 2 points for playing paper\n",
    "             2\n",
    "             (if (string= b \"Z\")\n",
    "                 ; 3 points for playing scissors\n",
    "                 3))))\n",
    "\n",
    "(defun score_rock_paper_scissors (a b)\n",
    "    ; they played rock\n",
    "    (if (string= a \"A\")\n",
    "        ; we played rock -> tie\n",
    "        (if (string= b \"X\")\n",
    "            3\n",
    "            ; we played paper -> we won\n",
    "            (if (string= b \"Y\")\n",
    "                6\n",
    "                ; we played scissors -> we lost\n",
    "                (if (string= b \"Z\")\n",
    "                    0)))\n",
    "    ; they played paper\n",
    "    (if (string= a \"B\")\n",
    "        ; we played rock -> we lose\n",
    "        (if (string= b \"X\")\n",
    "            0\n",
    "            ; we played paper -> tie\n",
    "            (if (string= b \"Y\")\n",
    "                3\n",
    "                ; we played scissors -> we win\n",
    "                (if (string= b \"Z\")\n",
    "                    6)))\n",
    "    ; they played scissors\n",
    "    (if (string= a \"C\")\n",
    "        ; we played rock -> we win\n",
    "        (if (string= b \"X\")\n",
    "            6\n",
    "            ; we played paper -> we lose\n",
    "            (if (string= b \"Y\")\n",
    "                0\n",
    "                ; we played scissors -> tie\n",
    "                (if (string= b \"Z\")\n",
    "                    3)))))))\n",
    "\n",
    "(defun score_game (a b)\n",
    "    \"Score a single game of rock-paper-scissors. Opponent plays `a` from {A,B,C}` we play `b` from {X,Y,Z}\"\n",
    "    (+ (score_selected_shape b) (score_rock_paper_scissors a b)))\n",
    "    \n",
    "(let ((lines (uiop:read-file-lines \"input_day2.txt\")))\n",
    "     (loop for line in lines sum (score_game (string (char line 0)) (string (char line 2)))))"
   ]
  },
  {
   "cell_type": "markdown",
   "id": "b97534ab-52e5-46f9-8eb0-1614dd514cb6",
   "metadata": {},
   "source": [
    "Now let's try association lists."
   ]
  },
  {
   "cell_type": "code",
   "execution_count": null,
   "id": "cf239241-d352-42ed-8c6f-3c94a7a31134",
   "metadata": {},
   "outputs": [],
   "source": [
    "(let ((lines (uiop:read-file-lines \"input_day2.txt\"))\n",
    "      (shape_score '((\"X\" . 1)(\"Y\" . 2) (\"Z\" . 3)))\n",
    "      (game_score '((\"A X\" . 3)\n",
    "                    (\"A Y\" . 6)\n",
    "                    (\"A Z\" . 0)\n",
    "                    (\"B X\" . 0)\n",
    "                    (\"B Y\" . 3)\n",
    "                    (\"B Z\" . 6)\n",
    "                    (\"C X\" . 6)\n",
    "                    (\"C Y\" . 0)\n",
    "                    (\"C Z\" . 3))))\n",
    "    (loop for line in lines\n",
    "          for tmp_shape_score = (cdr (assoc (char line 2) shape_score :test #'string=))\n",
    "          for tmp_game_score = (cdr (assoc line game_score :test #'string=))\n",
    "          sum (+ tmp_shape_score tmp_game_score)))"
   ]
  },
  {
   "cell_type": "markdown",
   "id": "1adaec99-0efb-4fcd-8342-8531fb682160",
   "metadata": {},
   "source": [
    "## Part 2\n",
    "\n",
    "Score games of rock paper scissors again."
   ]
  },
  {
   "cell_type": "code",
   "execution_count": null,
   "id": "f9ed1688-c852-4f21-831b-64888f588cce",
   "metadata": {},
   "outputs": [],
   "source": [
    "(let ((lines (uiop:read-file-lines \"input_day2.txt\"))\n",
    "      (shape_score '((\"X\" . 1)(\"Y\" . 2) (\"Z\" . 3)))\n",
    "      (game_score '((\"A X\" . 3)\n",
    "                    (\"A Y\" . 6)\n",
    "                    (\"A Z\" . 0)\n",
    "                    (\"B X\" . 0)\n",
    "                    (\"B Y\" . 3)\n",
    "                    (\"B Z\" . 6)\n",
    "                    (\"C X\" . 6)\n",
    "                    (\"C Y\" . 0)\n",
    "                    (\"C Z\" . 3)))\n",
    "      (what_play  '((\"A X\" . \"Z\") ;; they chose rock, we need to lose so choose scissors\n",
    "                    (\"A Y\" . \"X\")\n",
    "                    (\"A Z\" . \"Y\")\n",
    "                    (\"B X\" . \"X\") ;; they chose paper, we need to lose so choose rock\n",
    "                    (\"B Y\" . \"Y\")\n",
    "                    (\"B Z\" . \"Z\")\n",
    "                    (\"C X\" . \"Y\") ;; they chose scissors, we need to lose so choose paper\n",
    "                    (\"C Y\" . \"Z\")\n",
    "                    (\"C Z\" . \"X\"))))\n",
    "    (loop for line in lines\n",
    "          for played = (cdr (assoc line what_play :test #'string=))\n",
    "          for tmp_shape_score = (cdr (assoc played shape_score :test #'string=))\n",
    "          for new_line = (replace line played :start1 2)\n",
    "          for tmp_game_score = (cdr (assoc new_line game_score :test #'string=))\n",
    "          sum (+ tmp_shape_score tmp_game_score)))\n"
   ]
  },
  {
   "cell_type": "markdown",
   "id": "11083d17-e563-4799-af7e-845456efb555",
   "metadata": {},
   "source": [
    "# Day 3"
   ]
  },
  {
   "cell_type": "markdown",
   "id": "ba1859c9-6da9-4ffd-af6f-4bab5300999d",
   "metadata": {},
   "source": [
    "## Part 1\n",
    "\n",
    "Sum of priorities of items in both compartments."
   ]
  },
  {
   "cell_type": "code",
   "execution_count": null,
   "id": "e10d852f-cc14-43de-a080-92fa73d5bd86",
   "metadata": {},
   "outputs": [],
   "source": [
    ";; alist mapping characters to integer priority\n",
    "(defparameter priorities (concatenate 'list\n",
    "                   (loop for i from 1 to 26 collect (cons (code-char (+ 96 i)) i))\n",
    "                   (loop for i from 1 to 26 collect (cons (code-char (+ 64 i)) (+ 26 i)))))\n",
    "\n",
    "(defun find_item_in_both (contents)\n",
    "    \"Find character that is in both the first half and second half of the `contents` string.\"\n",
    "    (let ((first_half (subseq contents 0 (/ (length contents) 2)))\n",
    "          (second_half (subseq contents (/ (length contents) 2))))\n",
    "         ;; assume there is only one so can take first item in intersection of characters\n",
    "         (first (intersection (coerce first_half 'list) (coerce second_half 'list))))\n",
    ")\n",
    "\n",
    "(let ((lines (uiop:read-file-lines \"input_day3.txt\")))\n",
    "     (loop for line in lines\n",
    "           sum (cdr (assoc (find_item_in_both line) priorities)))\n",
    ")"
   ]
  },
  {
   "cell_type": "code",
   "execution_count": null,
   "id": "cd06c92a-ce1b-4b84-a6ca-bc6312a2c8a3",
   "metadata": {},
   "outputs": [],
   "source": [
    "(let ((lines (uiop:read-file-lines \"input_day3.txt\")))\n",
    "    ;; step by groups of 3\n",
    "     (loop for x upto (- (/ (length lines) 3) 1)\n",
    "           for group = (subseq lines (* 3 x) (+ (* 3 x) 3))\n",
    "           ;; do (print (reduce #'intersection (mapcar (lambda (x) (coerce x 'list)) group))))\n",
    "           sum (cdr (assoc (first (reduce #'intersection (mapcar (lambda (x) (coerce x 'list)) group))) priorities)))\n",
    ")"
   ]
  },
  {
   "cell_type": "markdown",
   "id": "989ee61a-f66f-43b4-8585-eef04205e346",
   "metadata": {},
   "source": [
    "`intersection` assumes set lists where \"A set doesn’t contain twice the same element and is unordered\". ([cookbook intersection of lists](https://lispcookbook.github.io/cl-cookbook/data-structures.html#intersection-of-lists)). If we have repeated elements in the list then we get multiple results\n"
   ]
  },
  {
   "cell_type": "code",
   "execution_count": null,
   "id": "a186826e-71fe-483f-9ccb-2f4242b9c563",
   "metadata": {},
   "outputs": [],
   "source": [
    "(reduce #'intersection (mapcar (lambda (x) (coerce x 'list)) (list \"hlLwDGLNnTrbNdtbdb\" \"ZfsvJbsJTrsttHTR\" \"vjPQJPFcmZjVFZFvbbVcJZJPBBhLMnDBznnGMDLMwBhlmBBl\")))"
   ]
  },
  {
   "cell_type": "markdown",
   "id": "257518c9-848f-4aac-852b-963e40464c6e",
   "metadata": {},
   "source": [
    "# Day 4"
   ]
  },
  {
   "cell_type": "markdown",
   "id": "8ca2e24c-f319-4aee-aa4d-7daac5c25f7d",
   "metadata": {},
   "source": [
    "## Part 1\n",
    "\n",
    "Calculate number of complete overlaps."
   ]
  },
  {
   "cell_type": "code",
   "execution_count": null,
   "id": "8b249f38-49ea-4a54-9f90-fa531371271d",
   "metadata": {},
   "outputs": [],
   "source": [
    "(ql:quickload \"cl-ppcre\")"
   ]
  },
  {
   "cell_type": "code",
   "execution_count": null,
   "id": "59e816e1-8100-43e2-8b0a-afbf83240731",
   "metadata": {},
   "outputs": [],
   "source": [
    "(let ((lines (uiop:read-file-lines \"input_day4.txt\")))\n",
    "     (loop for line in lines\n",
    "           count (ppcre:register-groups-bind ((#'parse-integer a b c d))\n",
    "            (\"(\\\\d+)-(\\\\d+),(\\\\d+)-(\\\\d+)\" line)\n",
    "            ;; assumes ordered a,b and c,d\n",
    "            (or (and (>= a c) (<= b d)) (and (>= c a) (<= d b))))\n",
    "    )\n",
    ")"
   ]
  },
  {
   "cell_type": "code",
   "execution_count": null,
   "id": "08a6b203-ef45-469f-a438-5415f5eee227",
   "metadata": {},
   "outputs": [],
   "source": [
    "(let ((lines (uiop:read-file-lines \"input_day4.txt\")))\n",
    "     (loop for line in lines\n",
    "           count (ppcre:register-groups-bind ((#'parse-integer a b c d))\n",
    "            (\"(\\\\d+)-(\\\\d+),(\\\\d+)-(\\\\d+)\" line)\n",
    "            ;; check whether any limit lies within the other bounds\n",
    "            (or (and (>= a c) (<= a d)) (and (>= b c) (<= b d)) (and (>= c a) (<= c b)) (and (>= d a) (<= d b))))\n",
    "    )\n",
    ")"
   ]
  },
  {
   "cell_type": "markdown",
   "id": "33484792-5079-4b54-9a99-1718d8431082",
   "metadata": {},
   "source": [
    "# Day 5"
   ]
  },
  {
   "cell_type": "markdown",
   "id": "04b392a0-df18-46b4-b50f-5cc12ab1f305",
   "metadata": {},
   "source": [
    "## Part 1\n",
    "\n",
    "Rearange crates. Puzzle input:\n",
    "\n",
    "```\n",
    "    [H]         [D]     [P]        \n",
    "[W] [B]         [C] [Z] [D]        \n",
    "[T] [J]     [T] [J] [D] [J]        \n",
    "[H] [Z]     [H] [H] [W] [S]     [M]\n",
    "[P] [F] [R] [P] [Z] [F] [W]     [F]\n",
    "[J] [V] [T] [N] [F] [G] [Z] [S] [S]\n",
    "[C] [R] [P] [S] [V] [M] [V] [D] [Z]\n",
    "[F] [G] [H] [Z] [N] [P] [M] [N] [D]\n",
    " 1   2   3   4   5   6   7   8   9 \n",
    "```"
   ]
  },
  {
   "cell_type": "code",
   "execution_count": null,
   "id": "ef9466cc-c967-44f4-b375-801fe725af32",
   "metadata": {},
   "outputs": [],
   "source": [
    "(defparameter crates (list\n",
    "                      (list \"W\" \"T\" \"H\" \"P\" \"J\" \"C\" \"F\" )\n",
    "                      (list \"H\" \"B\" \"J\" \"Z\" \"F\" \"V\" \"R\" \"G\")\n",
    "                      (list \"R\" \"T\" \"P\" \"H\")\n",
    "                      (list \"T\" \"H\" \"P\" \"N\" \"S\" \"Z\")\n",
    "                      (list \"D\" \"C\" \"J\" \"H\" \"Z\" \"F\" \"V\" \"N\")\n",
    "                      (list \"Z\" \"D\" \"W\" \"F\" \"G\" \"M\" \"P\")\n",
    "                      (list \"P\" \"D\" \"J\" \"S\" \"W\" \"Z\" \"V\" \"M\")\n",
    "                      (list \"S\" \"D\" \"N\")\n",
    "                      (list \"M\" \"F\" \"S\" \"Z\" \"D\")))\n",
    "\n",
    "(let ((lines (uiop:read-file-lines \"input_day5.txt\")))\n",
    "     (loop for line in lines\n",
    "           do (ppcre:register-groups-bind ((#'parse-integer to_move from_stack to_stack))\n",
    "            (\"move (\\\\d+) from (\\\\d+) to (\\\\d+)\" line)\n",
    "            (let ((tmp_stack nil))\n",
    "                 (progn\n",
    "                     (loop repeat to_move do (push (pop (elt crates (1- from_stack))) tmp_stack))\n",
    "                     (loop repeat to_move do (push (pop tmp_stack) (elt crates (1- to_stack))))\n",
    "                )))))\n",
    "(loop for stack in crates do (format t \"~a\" (first stack)))"
   ]
  },
  {
   "cell_type": "markdown",
   "id": "81ff939d-c149-4631-87a7-06c27bb7868f",
   "metadata": {},
   "source": [
    "# Day 6"
   ]
  },
  {
   "cell_type": "markdown",
   "id": "7377b9ce-59fb-4570-8f8f-1e6e1e6ddac2",
   "metadata": {},
   "source": [
    "## Part 1\n",
    "\n",
    "Find the start of frame marker with 4 unique characters. "
   ]
  },
  {
   "cell_type": "code",
   "execution_count": null,
   "id": "6cb89a07-f5c0-49e2-9ebf-06b195bf3b7c",
   "metadata": {},
   "outputs": [],
   "source": [
    "(defparameter datastream (uiop:read-file-string \"input_day6.txt\"))\n",
    ";; (defparameter datastream \"mjqjpqmgbljsphdztnvjfqwrcgsmlb\")"
   ]
  },
  {
   "cell_type": "code",
   "execution_count": null,
   "id": "7b5bac1c-b7be-4f3e-9b20-409cc4f28342",
   "metadata": {},
   "outputs": [],
   "source": [
    "(loop for i from 4 to (1- (length datastream))\n",
    "      when (> (length (remove-duplicates (subseq datastream (- i 4) i) )) 3) return i)"
   ]
  },
  {
   "cell_type": "markdown",
   "id": "da86980e-260f-4269-87dc-e0ee9d170e33",
   "metadata": {},
   "source": [
    "## Part 2\n",
    "\n",
    "Start of message with 14 unique characters. Let's make a more generic function."
   ]
  },
  {
   "cell_type": "code",
   "execution_count": null,
   "id": "0dbd3da6-ffb2-4b1d-9b0e-74fa68d2c9c7",
   "metadata": {},
   "outputs": [],
   "source": [
    "(defun find_sof (ds len)\n",
    "    (loop for i from len to (1- (length ds))\n",
    "      when (> (length (remove-duplicates (subseq ds (- i len) i) )) (1- len)) return i))\n",
    "    "
   ]
  },
  {
   "cell_type": "code",
   "execution_count": null,
   "id": "c6797b23-5bcc-4864-a255-8713257bb5a4",
   "metadata": {},
   "outputs": [],
   "source": [
    "(find_sof datastream 14)"
   ]
  },
  {
   "cell_type": "markdown",
   "id": "a41faa53-cd77-4c17-b2cb-34a4e6623f06",
   "metadata": {},
   "source": [
    "# Day 7"
   ]
  },
  {
   "cell_type": "markdown",
   "id": "13548548-e986-4212-b79d-3cddbba3b8ed",
   "metadata": {},
   "source": [
    "## Part 1\n",
    "\n",
    "Walk a directory structure given a series of terminal inputs and outputs. We'll need a few more pieces here:\n",
    "1. a tree structure with `folder` and `file` objects; the tree could be a recursive nested list of lists where the nodes are directories and the files are leaf nodes\n",
    "2. a `folder` has a `name`, `parent` and `children`\n",
    "3. a `file` has a `name`, `parent`, and `size` \n",
    "4. a state machine to parse the input and build the tree"
   ]
  },
  {
   "cell_type": "code",
   "execution_count": 13,
   "id": "368a1f76-5f5b-4a65-846a-3dc3811a9d32",
   "metadata": {},
   "outputs": [
    {
     "data": {
      "text/plain": [
       "#<STANDARD-CLASS COMMON-LISP-USER::FOLDER>"
      ]
     },
     "execution_count": 13,
     "metadata": {},
     "output_type": "execute_result"
    },
    {
     "data": {
      "text/plain": [
       "#<STANDARD-CLASS COMMON-LISP-USER::FILE>"
      ]
     },
     "execution_count": 13,
     "metadata": {},
     "output_type": "execute_result"
    },
    {
     "data": {
      "text/plain": [
       "#<STANDARD-METHOD COMMON-LISP-USER::ADD-CHILD (FOLDER FILE) {70052AA083}>"
      ]
     },
     "execution_count": 13,
     "metadata": {},
     "output_type": "execute_result"
    },
    {
     "data": {
      "text/plain": [
       "#<STANDARD-METHOD COMMON-LISP-USER::ADD-CHILD (FOLDER FOLDER) {7005337AA3}>"
      ]
     },
     "execution_count": 13,
     "metadata": {},
     "output_type": "execute_result"
    },
    {
     "data": {
      "text/plain": [
       "#<STANDARD-METHOD COMMON-LISP-USER::GET-CHILD-BY-NAME (FOLDER STRING) {70053F1863}>"
      ]
     },
     "execution_count": 13,
     "metadata": {},
     "output_type": "execute_result"
    },
    {
     "data": {
      "text/plain": [
       "#<STANDARD-METHOD COMMON-LISP-USER::SIZE (FOLDER) {7005454E03}>"
      ]
     },
     "execution_count": 13,
     "metadata": {},
     "output_type": "execute_result"
    },
    {
     "name": "stdout",
     "output_type": "stream",
     "text": [
      "SB-KERNEL:REDEFINITION-WITH-DEFMETHOD: redefining ADD-CHILD (#<STANDARD-CLASS COMMON-LISP-USER::FOLDER>\n",
      "                                                             #<STANDARD-CLASS COMMON-LISP-USER::FILE>) in DEFMETHOD\n",
      "SB-KERNEL:REDEFINITION-WITH-DEFMETHOD: redefining ADD-CHILD (#<STANDARD-CLASS COMMON-LISP-USER::FOLDER>\n",
      "                                                             #<STANDARD-CLASS COMMON-LISP-USER::FOLDER>) in DEFMETHOD\n",
      "SB-KERNEL:REDEFINITION-WITH-DEFMETHOD: redefining GET-CHILD-BY-NAME (#<STANDARD-CLASS COMMON-LISP-USER::FOLDER>\n",
      "                                                                     #<BUILT-IN-CLASS COMMON-LISP:STRING>) in DEFMETHOD\n",
      "SB-KERNEL:REDEFINITION-WITH-DEFMETHOD: redefining SIZE (#<STANDARD-CLASS COMMON-LISP-USER::FOLDER>) in DEFMETHOD\n"
     ]
    }
   ],
   "source": [
    "(defclass folder ()\n",
    "    ((name :initarg :name :accessor name)\n",
    "     (parent :initarg :parent :initform nil :accessor parent)\n",
    "     (children :initform nil :accessor children)))\n",
    "\n",
    "(defclass file ()\n",
    "    ((name :initarg :name :accessor name)\n",
    "     (parent :initarg :parent :accessor parent)\n",
    "     (size :initarg :size :accessor size)))\n",
    "\n",
    ";; add a child to a folder\n",
    "(defmethod add-child ((target folder) (child file))\n",
    "    (setf (parent child) target)\n",
    "    (push child (children target)))\n",
    "(defmethod add-child ((target folder) (child folder))\n",
    "    (setf (parent child) target)\n",
    "    (push child (children target)))\n",
    "\n",
    ";; get child by name\n",
    "(defmethod get-child-by-name ((target folder) (child-name string))\n",
    "    (find-if #'(lambda (x) (string= (name x) child-name)) (children target)))\n",
    "\n",
    ";; directory size\n",
    "(defmethod size ((dir folder))\n",
    "    (reduce '+ (children dir) :key (lambda (x) (size x))))"
   ]
  },
  {
   "cell_type": "code",
   "execution_count": 2,
   "id": "ba3e555d-7d8d-4be2-a249-996cda4b444c",
   "metadata": {},
   "outputs": [
    {
     "name": "stdout",
     "output_type": "stream",
     "text": [
      "To load \"cl-ppcre\":\n",
      "  Load 1 ASDF system:\n",
      "    cl-ppcre\n",
      "; Loading \"cl-ppcre\"\n",
      ".."
     ]
    },
    {
     "data": {
      "text/plain": [
       "(\"cl-ppcre\")"
      ]
     },
     "execution_count": 2,
     "metadata": {},
     "output_type": "execute_result"
    },
    {
     "name": "stdout",
     "output_type": "stream",
     "text": [
      "\n"
     ]
    }
   ],
   "source": [
    "(ql:quickload \"cl-ppcre\")"
   ]
  },
  {
   "cell_type": "code",
   "execution_count": 3,
   "id": "8e204195-12fb-439c-aed9-d88851c1a510",
   "metadata": {},
   "outputs": [
    {
     "data": {
      "text/plain": [
       "#<STANDARD-CLASS COMMON-LISP-USER::TERMINAL-PARSER>"
      ]
     },
     "execution_count": 3,
     "metadata": {},
     "output_type": "execute_result"
    },
    {
     "data": {
      "text/plain": [
       "#<STANDARD-METHOD COMMON-LISP-USER::PARSE-LINE (TERMINAL-PARSER STRING) {70089EBFC3}>"
      ]
     },
     "execution_count": 3,
     "metadata": {},
     "output_type": "execute_result"
    },
    {
     "name": "stdout",
     "output_type": "stream",
     "text": [
      "SB-INT:TYPE-STYLE-WARNING: This is not a STRING:\n",
      " NIL\n",
      "See also:\n",
      "  The SBCL Manual, Node \"Handling of Types\"\n",
      "SIMPLE-WARNING: undefined variable: COMMON-LISP-USER::ROOT\n"
     ]
    }
   ],
   "source": [
    "(defclass terminal-parser ()\n",
    "    ((current-directory :initform nil :accessor pwd)))\n",
    "\n",
    "(defmethod parse-line ((tp terminal-parser) (line string))\n",
    "    (cond\n",
    "        ;; list the folder contents - nothing for us to do but would be nice to track state\n",
    "        ((string= line \"$ ls\")\n",
    "         ;; (format t \"~&Listing folder contents\")\n",
    "         )\n",
    "        ;; change directory commands\n",
    "        ((ppcre:register-groups-bind (cd_to) (\"\\\\$ cd ([\\\\w\\\\/\\\\.]+)\" line)\n",
    "            (cond \n",
    "                ((string= cd_to \"/\")\n",
    "                     ;; (format t \"~&Moving to root\")\n",
    "                     (setf (pwd tp) root))\n",
    "                ((string= cd_to \"..\")\n",
    "                     ;; (format t \"~&Moving up to parent\")\n",
    "                     (setf (pwd tp) (parent (pwd tp))))\n",
    "                (t\n",
    "                     ;; (format t \"~&Moving to folder ~a\" cd_to)\n",
    "                     (setf (pwd tp) (get-child-by-name (pwd tp) cd_to))))))\n",
    "        ;; a directory listing\n",
    "        ((ppcre:register-groups-bind (folder_name) (\"dir (\\\\w+)\" line)\n",
    "             ;; (format t \"~&Adding folder named ~a to children of ~a\" folder_name (name (pwd tp)))\n",
    "             (add-child (pwd tp) (make-instance 'folder :name folder_name))))         \n",
    "        \n",
    "        ;; a file listing\n",
    "        ((ppcre:register-groups-bind (file_size file_name) (\"(\\\\d+) ([\\\\w\\\\.]+)\" line)\n",
    "             ;; (format t \"~&Adding file named ~a with size ~a to children of ~a\" file_name file_size (name (pwd tp)))\n",
    "             (add-child (pwd tp) (make-instance 'file :name file_name :size (parse-integer file_size)))))         \n",
    "        \n",
    "    ))\n",
    "            "
   ]
  },
  {
   "cell_type": "code",
   "execution_count": 11,
   "id": "def95a40-950c-4d8b-91c6-b949892ff26c",
   "metadata": {},
   "outputs": [
    {
     "data": {
      "text/plain": [
       "TP"
      ]
     },
     "execution_count": 11,
     "metadata": {},
     "output_type": "execute_result"
    },
    {
     "data": {
      "text/plain": [
       "ROOT"
      ]
     },
     "execution_count": 11,
     "metadata": {},
     "output_type": "execute_result"
    },
    {
     "data": {
      "text/plain": [
       "NIL"
      ]
     },
     "execution_count": 11,
     "metadata": {},
     "output_type": "execute_result"
    }
   ],
   "source": [
    "(defparameter tp (make-instance 'terminal-parser))\n",
    "(defparameter root (make-instance 'folder :name \"root\"))\n",
    "\n",
    "(let ((lines (uiop:read-file-lines \"input_day7.txt\")))\n",
    "     (loop for line in lines do (parse-line tp line)))"
   ]
  },
  {
   "cell_type": "markdown",
   "id": "788614b4-8f60-4d65-9aea-b6d96ec5411e",
   "metadata": {},
   "source": [
    "Recursion based approach. Since the `size` method is already recursive the rewalks the tree many times.  "
   ]
  },
  {
   "cell_type": "code",
   "execution_count": 15,
   "id": "03662d4c-1834-4373-a8ec-f39987088267",
   "metadata": {},
   "outputs": [
    {
     "data": {
      "text/plain": [
       "FOLDER-SIZES"
      ]
     },
     "execution_count": 15,
     "metadata": {},
     "output_type": "execute_result"
    },
    {
     "data": {
      "text/plain": [
       "1989474"
      ]
     },
     "execution_count": 15,
     "metadata": {},
     "output_type": "execute_result"
    },
    {
     "name": "stdout",
     "output_type": "stream",
     "text": [
      "SB-INT:SIMPLE-STYLE-WARNING: The variable PWD is defined but never used.\n",
      "SB-KERNEL:REDEFINITION-WITH-DEFUN: redefining COMMON-LISP-USER::FOLDER-SIZES in DEFUN\n"
     ]
    }
   ],
   "source": [
    ";; depth-first walk of the file system\n",
    "(defun folder-sizes (pwd)\n",
    "    (labels ((rec (pwd acc)\n",
    "        (loop :for item :in (children pwd)\n",
    "              :when (typep item 'folder)\n",
    "              :do \n",
    "                  ;; (format t \"~& dir name ~a; item name: ~a\" (name pwd) (name item))\n",
    "                  (setf acc (append acc (rec item nil)))\n",
    "                  (push (size item) acc)\n",
    "                  ;; (format t \"~& acc: ~a\" acc) \n",
    "              :finally (return acc))))\n",
    "    (rec root nil)))\n",
    "(let ((sizes (folder-sizes root)))\n",
    "     (loop for s in sizes\n",
    "          :when (< s 100000) :sum s))"
   ]
  },
  {
   "cell_type": "markdown",
   "id": "35493d26-5f96-4a58-94e2-d5344c0a79fd",
   "metadata": {},
   "source": [
    "Queue based approach"
   ]
  },
  {
   "cell_type": "code",
   "execution_count": 26,
   "id": "6b07e14e-05b5-48f9-ab62-d86411617021",
   "metadata": {},
   "outputs": [
    {
     "data": {
      "text/plain": [
       "1989474"
      ]
     },
     "execution_count": 26,
     "metadata": {},
     "output_type": "execute_result"
    }
   ],
   "source": [
    "(let ((stack (remove-if-not (lambda (x) (typep x 'folder)) (children root)))\n",
    "      (sizes nil))\n",
    "    (loop :while (> (length stack) 0)\n",
    "        do\n",
    "        (push (size (first stack)) sizes)\n",
    "        (setf stack (append stack (remove-if-not (lambda (x) (typep x 'folder)) (children (first stack)))))\n",
    "        (pop stack))\n",
    "     \n",
    "    (loop for s in sizes\n",
    "          :when (< s 100000) :sum s))"
   ]
  },
  {
   "cell_type": "markdown",
   "id": "5621276b-ee8d-434f-ba8c-f359a29a631d",
   "metadata": {},
   "source": [
    "## Part 2\n",
    "\n",
    "Find which directory to delete to free up necessary space."
   ]
  },
  {
   "cell_type": "code",
   "execution_count": 33,
   "id": "7f7e3b83-1b2b-48bf-9424-068815b5146d",
   "metadata": {},
   "outputs": [
    {
     "data": {
      "text/plain": [
       "1111607"
      ]
     },
     "execution_count": 33,
     "metadata": {},
     "output_type": "execute_result"
    },
    {
     "name": "stdout",
     "output_type": "stream",
     "text": [
      "\n",
      "1072511 "
     ]
    }
   ],
   "source": [
    "(let ((sizes (folder-sizes root))\n",
    "      (disk-size 70000000)\n",
    "      (space-needed 30000000))\n",
    "     ;; find out how much we need to delete\n",
    "     (let ((min-delete (- space-needed (- disk-size (size root)))))\n",
    "     ;; should defend against not needing to delete anything\n",
    "     (print min-delete)\n",
    "     (loop for s in (sort sizes #'<)\n",
    "           :when (> s min-delete)\n",
    "           :return s)))"
   ]
  },
  {
   "cell_type": "code",
   "execution_count": null,
   "id": "16bbc3a1-00b0-4246-bacb-036c9df7e3d6",
   "metadata": {},
   "outputs": [],
   "source": []
  }
 ],
 "metadata": {
  "kernelspec": {
   "display_name": "Common Lisp",
   "language": "common-lisp",
   "name": "common-lisp"
  },
  "language_info": {
   "codemirror_mode": "text/x-common-lisp",
   "file_extension": ".lisp",
   "mimetype": "text/x-common-lisp",
   "name": "common-lisp",
   "pygments_lexer": "common-lisp",
   "version": "2.2.11"
  }
 },
 "nbformat": 4,
 "nbformat_minor": 5
}
